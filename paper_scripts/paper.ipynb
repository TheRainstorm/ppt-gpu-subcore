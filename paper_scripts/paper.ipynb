{
 "cells": [
  {
   "cell_type": "markdown",
   "id": "d6ffed54-6f3f-4056-aa25-e807b8d69104",
   "metadata": {},
   "source": [
    "## 输出总结果"
   ]
  },
  {
   "cell_type": "code",
   "execution_count": 1,
   "id": "d7e7f502-2d32-4367-8cd5-d6e1f4531964",
   "metadata": {},
   "outputs": [
    {
     "name": "stdout",
     "output_type": "stream",
     "text": [
      "/staff/fyyuan/repo/PPT-GPU\n"
     ]
    }
   ],
   "source": [
    "import argparse\n",
    "import json\n",
    "import sys, os\n",
    "import pandas as pd\n",
    "import numpy as np\n",
    "\n",
    "# os.chdir('..')\n",
    "print(os.getcwd())"
   ]
  },
  {
   "cell_type": "code",
   "execution_count": 239,
   "id": "83d971dc-f343-470c-9133-7df529e05bae",
   "metadata": {},
   "outputs": [],
   "source": [
    "cmp_list = ['warp_inst_executed', 'achieved_occupancy', 'gpu_active_cycles', 'sm_active_cycles_sum', 'ipc',\n",
    "            'l1_hit_rate', 'l2_hit_rate', 'gmem_tot_reqs', 'gmem_tot_sectors', 'l2_tot_trans', 'dram_tot_trans']\n",
    "def get_summary(df, filter_error_hw=False):\n",
    "    data = []\n",
    "    for key in cmp_list:\n",
    "        y1, y2 = df[f\"{key}_hw\"], df[f\"{key}_sim\"]\n",
    "\n",
    "        if filter_error_hw:\n",
    "            if \"hit_rate\" in key:\n",
    "                valid_hw_res = y1 <= 1.01\n",
    "                # print(y1.shape)\n",
    "                shape1 = y1.shape\n",
    "                y1 = y1[valid_hw_res]\n",
    "                # print(y1.shape)\n",
    "                shape2 = y1.shape\n",
    "                if shape1 != shape2:\n",
    "                    print(f\"{key}: {shape1} -> {shape2}\")\n",
    "                y2 = y2[valid_hw_res]\n",
    "        \n",
    "        non_zero_idxs = y1 != 0\n",
    "        MAPE = np.mean(np.abs(y1[non_zero_idxs] - y2[non_zero_idxs])/y1[non_zero_idxs])\n",
    "\n",
    "        MAE = np.mean(np.abs(y1-y2))\n",
    "        RMSE = np.sqrt(np.mean((y1 - y2)**2))\n",
    "        NRMSE = np.sqrt(np.mean((y1 - y2)**2)) / np.mean(y1)\n",
    "        # corr = np.corrcoef(y1, y2)[0, 1]\n",
    "        corr = y1.corr(y2, method='pearson')\n",
    "        kendall_tau = y1.corr(y2, method='kendall')\n",
    "\n",
    "        data.append({\"MAPE\": MAPE, \"NRMSE\": NRMSE, \"Correlation\": corr, 'MAE': MAE, 'RMSE':RMSE, \"kendall_tau\": kendall_tau})\n",
    "    df_summary = pd.DataFrame(data, index=cmp_list)\n",
    "    return df_summary\n",
    "def get_summary_by_bench(df, filter_error_hw=False):\n",
    "    df_list = []\n",
    "    keys = [\"all\"]\n",
    "    df_list.append(get_summary(df, filter_error_hw=filter_error_hw))\n",
    "    \n",
    "    bench_groupby = df.groupby(\"bench\", sort=False, as_index=False)\n",
    "    for bench, group in bench_groupby:\n",
    "        print(bench)\n",
    "        df_list.append(get_summary(group, filter_error_hw=filter_error_hw))\n",
    "        keys.append(bench)\n",
    "    \n",
    "    df_summary = pd.concat(df_list, keys=keys, axis=1)\n",
    "    return df_summary"
   ]
  },
  {
   "cell_type": "code",
   "execution_count": 237,
   "id": "09eb803c-9ea3-49e6-8429-d436731cd155",
   "metadata": {},
   "outputs": [],
   "source": [
    "def print_compare_table(df_sim1, df_sim2, NRMSE=True, paper=False):\n",
    "    cmp_list_dict = {k:k for k in cmp_list}\n",
    "    if paper:\n",
    "        # del cmp_list_dict['gmem_tot_reqs']\n",
    "        # del cmp_list_dict['gmem_tot_sectors']\n",
    "        # del cmp_list_dict['l1_hit_rate_stg']\n",
    "        # del cmp_list_dict['l2_hit_rate_st']\n",
    "        NRMSE =False\n",
    "    \n",
    "    def to_percentage(x):\n",
    "        return \"{:.2%}\".format(x)\n",
    "    def round_2digt(x):\n",
    "        return \"{:.2f}\".format(x)\n",
    "    L = []\n",
    "    if NRMSE:\n",
    "        eval_metrics = ['MAPE', 'Correlation', 'NRMSE', 'kendall_tau']\n",
    "    else:\n",
    "        eval_metrics = ['MAPE', 'Correlation']\n",
    "    # eval_metrics = ['MAPE', 'Correlation', 'NRMSE', 'MAE', 'RMSE']\n",
    "    for eval_metric in eval_metrics:\n",
    "        if 'MAPE' == eval_metric:\n",
    "            s1 = df_sim1[('all', eval_metric)].apply(to_percentage)\n",
    "            s2 = df_sim2[('all', eval_metric)].apply(to_percentage)\n",
    "        # elif 'Correlation'== eval_metric:\n",
    "        elif True:\n",
    "            s1 = df_sim1[('all', eval_metric)].apply(round_2digt)\n",
    "            s2 = df_sim2[('all', eval_metric)].apply(round_2digt)\n",
    "        else:\n",
    "            s1 = df_sim1[('all', eval_metric)]\n",
    "            s2 = df_sim2[('all', eval_metric)]\n",
    "        L.append(s1)\n",
    "        L.append(s2)\n",
    "    merge_df = pd.concat(L, axis=1)\n",
    "    merge_df.columns = pd.MultiIndex.from_product([eval_metrics, ['Old', 'New']])\n",
    "\n",
    "    # rename metrics\n",
    "    select_df = merge_df.loc[cmp_list_dict.keys()].rename(index=cmp_list_dict)\n",
    "    return merge_df,select_df"
   ]
  },
  {
   "cell_type": "markdown",
   "id": "7c5e62f8-70de-47d7-b2f8-620d119df56c",
   "metadata": {},
   "source": [
    "### 读取 Excel"
   ]
  },
  {
   "cell_type": "code",
   "execution_count": 332,
   "id": "870bfe3b-2769-448d-8ab3-4b14717761fb",
   "metadata": {
    "editable": true,
    "slideshow": {
     "slide_type": ""
    },
    "tags": []
   },
   "outputs": [
    {
     "name": "stdout",
     "output_type": "stream",
     "text": [
      "(59, 25) (46, 25)\n"
     ]
    }
   ],
   "source": [
    "# sim_res = 'res_ppt-gpu_titanv_11.0_TITANV_cl32_old_param.xlsx'\n",
    "# sim_res = 'res_ppt-gpu_titanv_11.0_TITANV_cl32-12-30.xlsx'\n",
    "# sim_res = 'res_ppt-gpu_titanv_11.0_TITANV_fix_cycle.xlsx'\n",
    "# sim_res2 = 'res_ppt2_titanv_11.0_TITANV_old_memory.xlsx'\n",
    "# sim_res2 = 'res_ppt2_titanv_11.0_TITANV_paper_12-30.xlsx'\n",
    "sim_res = 'res_ppt-gpu_titanv_11.0_TITANV_cl32.xlsx'\n",
    "sim_res2 = 'res_ppt2_titanv_11.0_TITANV_paper.xlsx'\n",
    "\n",
    "sim_res = 'res_ppt-gpu_titanv_11.0_A100-40G_cl32.xlsx'\n",
    "sim_res2 = 'res_ppt2_titanv_11.0_A100-40G_paper.xlsx'\n",
    "\n",
    "output_dir = 'paper_draw'\n",
    "\n",
    "df_sim1 = pd.read_excel(sim_res, sheet_name=\"apps\")\n",
    "df_sim2 = pd.read_excel(sim_res2, sheet_name=\"apps\")\n",
    "# df_sim1 = pd.read_excel(sim_res, sheet_name=\"kernels\")\n",
    "# df_sim2 = pd.read_excel(sim_res2, sheet_name=\"kernels\")\n",
    "\n",
    "print(df_sim1.shape, df_sim2.shape)"
   ]
  },
  {
   "cell_type": "code",
   "execution_count": 333,
   "id": "26d78791-e5ae-476e-92f7-02f7c1899e96",
   "metadata": {},
   "outputs": [
    {
     "data": {
      "text/plain": [
       "44    gemm_bench-tensor/inference_half_35_1500_2560_0_0\n",
       "45                                                 AN/1\n",
       "48               pannotia-color/__data_ecology1_graph_1\n",
       "49             pannotia-color/__data_G3_circuit_graph_1\n",
       "50        pannotia-color_maxmin/__data_ecology1_graph_1\n",
       "51      pannotia-color_maxmin/__data_G3_circuit_graph_1\n",
       "52                      pannotia-fw/__data_256_16384_gr\n",
       "53                pannotia-fw_block/__data_256_16384_gr\n",
       "54                pannotia-fw_block/__data_512_65536_gr\n",
       "55                 pannotia-mis/__data_ecology1_graph_1\n",
       "56               pannotia-mis/__data_G3_circuit_graph_1\n",
       "57       pannotia-pagerank/__data_coAuthorsDBLP_graph_1\n",
       "58    pannotia-pagerank_spmv/__data_coAuthorsDBLP_gr...\n",
       "Name: app, dtype: object"
      ]
     },
     "execution_count": 333,
     "metadata": {},
     "output_type": "execute_result"
    }
   ],
   "source": [
    "# 输出 df1 - df2\n",
    "df_sim1[~df_sim1['app'].isin(df_sim2['app'])]['app']"
   ]
  },
  {
   "cell_type": "markdown",
   "id": "62e3ed2f-d6e7-493e-9098-5fb4f7b284cf",
   "metadata": {},
   "source": [
    "### 选择都存在的应用（必须）"
   ]
  },
  {
   "cell_type": "code",
   "execution_count": 67,
   "id": "e0bd0a02-b814-451a-ac2e-49e0fd81cebf",
   "metadata": {},
   "outputs": [],
   "source": [
    "def find_common(df1, df2):\n",
    "    common_apps = df1[df1['app'].isin(df2['app'])]['app']\n",
    "    df1_intersect = df1[df1['app'].isin(common_apps)]\n",
    "    df2_intersect = df2[df2['app'].isin(common_apps)]\n",
    "    df1_intersect.reset_index(drop=True, inplace=True)\n",
    "    df2_intersect.reset_index(drop=True, inplace=True)\n",
    "    return df1_intersect, df2_intersect"
   ]
  },
  {
   "cell_type": "code",
   "execution_count": 334,
   "id": "b6304910-79fc-40d8-a038-5d1761951c79",
   "metadata": {},
   "outputs": [
    {
     "name": "stdout",
     "output_type": "stream",
     "text": [
      "(46, 25) (46, 25)\n"
     ]
    }
   ],
   "source": [
    "df_sim1, df_sim2 = find_common(df_sim1, df_sim2)\n",
    "print(df_sim1.shape, df_sim2.shape)\n",
    "# df_sim1['app']"
   ]
  },
  {
   "cell_type": "markdown",
   "id": "158a6482-e68a-4f04-8911-ecaad8b7ec32",
   "metadata": {},
   "source": [
    "### 按照 yaml 重新选择应用"
   ]
  },
  {
   "cell_type": "code",
   "execution_count": 109,
   "id": "ff45005b-970e-4228-a71a-f5628851ca16",
   "metadata": {},
   "outputs": [],
   "source": [
    "# %env app_yaml=/staff/fyyuan/repo/PPT-GPU-memory/memory_model/memory-apps.yml\n",
    "# print(os.environ['app_yaml'])\n",
    "\n",
    "sys.path.insert(0, \"/staff/fyyuan/repo/PPT-GPU/\")\n",
    "from scripts.common import parse_app_definition_yaml, get_suite_info, get_app_arg_list\n",
    "\n",
    "app_yaml = \"/staff/fyyuan/repo/PPT-GPU/paper_scripts/apps.yml\""
   ]
  },
  {
   "cell_type": "code",
   "execution_count": 117,
   "id": "c836451d-1106-4a40-a254-499027cb6cbc",
   "metadata": {},
   "outputs": [],
   "source": [
    "defined_apps = parse_app_definition_yaml(app_yaml)\n",
    "suite_info = get_suite_info(app_yaml)\n",
    "\n",
    "apps = []\n",
    "for suite in suite_info['suites']:\n",
    "    apps += defined_apps[suite]\n",
    "    \n",
    "app_and_arg_list = get_app_arg_list(apps)\n",
    "# print(app_and_arg_list[:3])\n",
    "\n",
    "def filter_app(df):\n",
    "    df = df[df['app'].isin(app_and_arg_list)]\n",
    "    # print(df.index)\n",
    "    return df"
   ]
  },
  {
   "cell_type": "code",
   "execution_count": 118,
   "id": "a08a24f0-a85c-4a73-8402-77920f9fee58",
   "metadata": {},
   "outputs": [
    {
     "name": "stdout",
     "output_type": "stream",
     "text": [
      "(33, 25) (33, 25)\n"
     ]
    }
   ],
   "source": [
    "df_sim1 = filter_app(df_sim1)\n",
    "df_sim2 = filter_app(df_sim2)\n",
    "print(df_sim1.shape, df_sim2.shape)"
   ]
  },
  {
   "cell_type": "markdown",
   "id": "a4931d32-8926-4861-9a54-83298974741f",
   "metadata": {},
   "source": [
    "### 过滤结果好的应用"
   ]
  },
  {
   "cell_type": "code",
   "execution_count": null,
   "id": "481ba6da-20be-4ba6-a44d-36732cdb0f10",
   "metadata": {},
   "outputs": [],
   "source": [
    "### 按照 cycle 过滤"
   ]
  },
  {
   "cell_type": "code",
   "execution_count": 326,
   "id": "d9eb6510-099d-4366-9460-88b251adf1d4",
   "metadata": {},
   "outputs": [],
   "source": [
    "def filter_apps(df, paper_apps):\n",
    "    return df[df['app'].isin(paper_apps)]"
   ]
  },
  {
   "cell_type": "code",
   "execution_count": 335,
   "id": "56eb6b5b-f44e-4e89-95ad-17137e4146b0",
   "metadata": {},
   "outputs": [
    {
     "name": "stdout",
     "output_type": "stream",
     "text": [
      "(36, 25) (36, 25)\n"
     ]
    }
   ],
   "source": [
    "# 使用之前过滤的应用\n",
    "df_sim1, df_sim2 = filter_apps(df_sim1, paper_apps), filter_apps(df_sim2, paper_apps)\n",
    "print(df_sim1.shape, df_sim2.shape)"
   ]
  },
  {
   "cell_type": "code",
   "execution_count": 314,
   "id": "ee3ec30c-81e1-4a14-a54a-5e6b70c48341",
   "metadata": {},
   "outputs": [],
   "source": [
    "df_MAE1 = pd.read_excel(sim_res, sheet_name=\"apps_MAE\")\n",
    "df_MAE2 = pd.read_excel(sim_res2, sheet_name=\"apps_MAE\")\n",
    "# df_MAE1 = pd.read_excel(sim_res, sheet_name=\"kernels_MAE\")\n",
    "# df_MAE2 = pd.read_excel(sim_res2, sheet_name=\"kernels_MAE\")\n",
    "df_MAE1, df_MAE2 = find_common(df_MAE1, df_MAE2)"
   ]
  },
  {
   "cell_type": "code",
   "execution_count": 320,
   "id": "81241978-f225-4005-a42a-906006f19a5a",
   "metadata": {},
   "outputs": [
    {
     "name": "stdout",
     "output_type": "stream",
     "text": [
      "42 45 9\n"
     ]
    }
   ],
   "source": [
    "idx1 = abs(df_MAE1['gpu_active_cycles']) < 0.65\n",
    "idx2 = abs(df_MAE2['gpu_active_cycles']) < 0.65\n",
    "\n",
    "improv = idx2 & ~idx1\n",
    "# pd.concat([idx1, idx2], axis=1)\n",
    "print(idx1.sum(), idx2.sum(), improv.sum())"
   ]
  },
  {
   "cell_type": "code",
   "execution_count": 321,
   "id": "52e6c7fa-a5dd-4831-812b-348ec9502a4b",
   "metadata": {},
   "outputs": [
    {
     "name": "stdout",
     "output_type": "stream",
     "text": [
      "(45, 25) (45, 25)\n"
     ]
    }
   ],
   "source": [
    "# 过滤结果好的应用\n",
    "def filter(df1, df2, idx):\n",
    "    return df1[idx], df2[idx]\n",
    "\n",
    "# df_sim1, df_sim2 = filter(df_sim1, df_sim2, idx1)\n",
    "df_sim1, df_sim2 = filter(df_sim1, df_sim2, idx2)\n",
    "# df_sim1, df_sim2 = filter(df_sim1, df_sim2, improv)\n",
    "print(df_sim1.shape, df_sim2.shape)"
   ]
  },
  {
   "cell_type": "code",
   "execution_count": 293,
   "id": "82d03ffc-e669-4b99-a91a-f3cfc21ae932",
   "metadata": {},
   "outputs": [
    {
     "name": "stdout",
     "output_type": "stream",
     "text": [
      "33 41 17\n",
      "(27, 25) (27, 25)\n"
     ]
    },
    {
     "name": "stderr",
     "output_type": "stream",
     "text": [
      "/tmp/ipykernel_750839/1770481361.py:3: UserWarning: Boolean Series key will be reindexed to match DataFrame index.\n",
      "  return df1[idx], df2[idx]\n",
      "/tmp/ipykernel_750839/1770481361.py:3: UserWarning: Boolean Series key will be reindexed to match DataFrame index.\n",
      "  return df1[idx], df2[idx]\n"
     ]
    }
   ],
   "source": [
    "### 按照 dram tot 过滤\n",
    "idx1 = abs(df_MAE1['dram_tot_trans']) < 0.5\n",
    "idx2 = abs(df_MAE2['dram_tot_trans']) < 0.5\n",
    "improv = idx2 & ~idx1\n",
    "print(idx1.sum(), idx2.sum(), improv.sum())\n",
    "\n",
    "df_sim1, df_sim2 = filter(df_sim1, df_sim2, idx2)\n",
    "print(df_sim1.shape, df_sim2.shape)"
   ]
  },
  {
   "cell_type": "code",
   "execution_count": 217,
   "id": "bc901181-06a6-406e-a83a-2c18651236eb",
   "metadata": {},
   "outputs": [],
   "source": [
    "def filter_file(file, apps, out=''):\n",
    "    if not out:\n",
    "        out = file.replace('.xlsx', '-filter.xlsx')\n",
    "    excel_data = pd.ExcelFile(file)\n",
    "    sheet_names = excel_data.sheet_names\n",
    "    \n",
    "    print(sheet_names)\n",
    "    \n",
    "    def filter_app(df, apps):\n",
    "        return df[df['app'].isin(apps)]\n",
    "    \n",
    "    with pd.ExcelWriter(out, engine='xlsxwriter') as writer:\n",
    "        for sheet_name in sheet_names:\n",
    "            if 'summary' in sheet_name:\n",
    "                df_summary = get_summary_by_bench(df_filter, filter_error_hw=True) # 上一个\n",
    "                df_summary.to_excel(writer, sheet_name=sheet_name, index=True)\n",
    "            else:\n",
    "                df = excel_data.parse(sheet_name)\n",
    "                df_filter = filter_app(df, apps)\n",
    "                df_filter.to_excel(writer, sheet_name=sheet_name, index=False)\n",
    "# def save(sim_res, sim_res2, idx, out='filter.xlsx'):\n",
    "#     df_sim1 = pd.read_excel(sim_res, sheet_name=\"apps\")\n",
    "#     df_sim2 = pd.read_excel(sim_res2, sheet_name=\"apps\")\n",
    "#     df_MAE1 = pd.read_excel(sim_res, sheet_name=\"apps_MAE\")\n",
    "#     df_MAE2 = pd.read_excel(sim_res2, sheet_name=\"apps_MAE\")\n",
    "        \n",
    "#     df_sim1, df_sim2 = filter(df_sim1, df_sim2, idx)\n",
    "#     df_MAE1, df_MAE2 = filter(df_MAE1, df_MAE2, idx)\n",
    "#     with pd.ExcelWriter(out, engine='xlsxwriter') as writer:\n",
    "#         df_sim1.to_excel(writer, sheet_name='ppt-apps', index=False)\n",
    "#         df_MAE1.to_excel(writer, sheet_name='ppt-apps_MAE', index=False)\n",
    "#         df_sim2.to_excel(writer, sheet_name='our-apps', index=False)\n",
    "#         df_MAE2.to_excel(writer, sheet_name='our-apps_MAE', index=False)"
   ]
  },
  {
   "cell_type": "code",
   "execution_count": 337,
   "id": "f921e40e-6dc6-4128-92f3-efbfe33a37b0",
   "metadata": {},
   "outputs": [
    {
     "name": "stdout",
     "output_type": "stream",
     "text": [
      "['apps', 'apps_summary', 'apps_MAE', 'kernels', 'kernels_summary', 'kernels_MAE', 'apps_extra', 'kernels_extra']\n",
      "rodinia-3.1\n",
      "polybench\n",
      "GPU_Microbenchmark\n",
      "Tango\n",
      "pannotia\n",
      "l2_hit_rate: (2241,) -> (2201,)\n",
      "rodinia-3.1\n",
      "l2_hit_rate: (1574,) -> (1535,)\n",
      "polybench\n",
      "GPU_Microbenchmark\n",
      "Tango\n",
      "pannotia\n",
      "l2_hit_rate: (585,) -> (584,)\n",
      "['apps', 'apps_summary', 'apps_MAE', 'kernels', 'kernels_summary', 'kernels_MAE', 'apps_extra', 'kernels_extra']\n",
      "rodinia-3.1\n",
      "polybench\n",
      "GPU_Microbenchmark\n",
      "Tango\n"
     ]
    },
    {
     "name": "stderr",
     "output_type": "stream",
     "text": [
      "/staff/fyyuan/miniconda3/lib/python3.8/site-packages/numpy/lib/function_base.py:2846: RuntimeWarning: Degrees of freedom <= 0 for slice\n",
      "  c = cov(x, y, rowvar, dtype=dtype)\n",
      "/staff/fyyuan/miniconda3/lib/python3.8/site-packages/numpy/lib/function_base.py:2705: RuntimeWarning: divide by zero encountered in divide\n",
      "  c *= np.true_divide(1, fact)\n"
     ]
    },
    {
     "name": "stdout",
     "output_type": "stream",
     "text": [
      "l2_hit_rate: (1634,) -> (1595,)\n",
      "rodinia-3.1\n",
      "l2_hit_rate: (1574,) -> (1535,)\n",
      "polybench\n",
      "GPU_Microbenchmark\n",
      "Tango\n"
     ]
    }
   ],
   "source": [
    "# apps = df_MAE1[improv]['app']\n",
    "apps = paper_apps\n",
    "filter_file(sim_res, apps)\n",
    "filter_file(sim_res2, apps)\n",
    "# save(sim_res, sim_res2, improv, out='improv.xlsx')"
   ]
  },
  {
   "cell_type": "markdown",
   "id": "eb13036d-1947-446b-9432-6ca424ec6d33",
   "metadata": {},
   "source": [
    "### 结果（过滤 hw 命中率大于 1)\n",
    "\n",
    "过滤掉命中率大于 1 的应用"
   ]
  },
  {
   "cell_type": "code",
   "execution_count": 336,
   "id": "551312b5-8a89-4744-bfbf-48ec2630e196",
   "metadata": {},
   "outputs": [
    {
     "name": "stdout",
     "output_type": "stream",
     "text": [
      "rodinia-3.1\n",
      "polybench\n",
      "GPU_Microbenchmark\n",
      "Tango\n",
      "rodinia-3.1\n",
      "polybench\n",
      "GPU_Microbenchmark\n",
      "Tango\n",
      "(36, 25) (36, 25)\n"
     ]
    },
    {
     "name": "stderr",
     "output_type": "stream",
     "text": [
      "/staff/fyyuan/miniconda3/lib/python3.8/site-packages/numpy/lib/function_base.py:2846: RuntimeWarning: Degrees of freedom <= 0 for slice\n",
      "  c = cov(x, y, rowvar, dtype=dtype)\n",
      "/staff/fyyuan/miniconda3/lib/python3.8/site-packages/numpy/lib/function_base.py:2705: RuntimeWarning: divide by zero encountered in divide\n",
      "  c *= np.true_divide(1, fact)\n",
      "/staff/fyyuan/miniconda3/lib/python3.8/site-packages/numpy/lib/function_base.py:2846: RuntimeWarning: Degrees of freedom <= 0 for slice\n",
      "  c = cov(x, y, rowvar, dtype=dtype)\n",
      "/staff/fyyuan/miniconda3/lib/python3.8/site-packages/numpy/lib/function_base.py:2705: RuntimeWarning: divide by zero encountered in divide\n",
      "  c *= np.true_divide(1, fact)\n"
     ]
    },
    {
     "data": {
      "text/html": [
       "<div>\n",
       "<style scoped>\n",
       "    .dataframe tbody tr th:only-of-type {\n",
       "        vertical-align: middle;\n",
       "    }\n",
       "\n",
       "    .dataframe tbody tr th {\n",
       "        vertical-align: top;\n",
       "    }\n",
       "\n",
       "    .dataframe thead tr th {\n",
       "        text-align: left;\n",
       "    }\n",
       "</style>\n",
       "<table border=\"1\" class=\"dataframe\">\n",
       "  <thead>\n",
       "    <tr>\n",
       "      <th></th>\n",
       "      <th colspan=\"2\" halign=\"left\">MAPE</th>\n",
       "      <th colspan=\"2\" halign=\"left\">Correlation</th>\n",
       "      <th colspan=\"2\" halign=\"left\">NRMSE</th>\n",
       "      <th colspan=\"2\" halign=\"left\">kendall_tau</th>\n",
       "    </tr>\n",
       "    <tr>\n",
       "      <th></th>\n",
       "      <th>Old</th>\n",
       "      <th>New</th>\n",
       "      <th>Old</th>\n",
       "      <th>New</th>\n",
       "      <th>Old</th>\n",
       "      <th>New</th>\n",
       "      <th>Old</th>\n",
       "      <th>New</th>\n",
       "    </tr>\n",
       "  </thead>\n",
       "  <tbody>\n",
       "    <tr>\n",
       "      <th>warp_inst_executed</th>\n",
       "      <td>5.30%</td>\n",
       "      <td>5.30%</td>\n",
       "      <td>1.00</td>\n",
       "      <td>1.00</td>\n",
       "      <td>0.05</td>\n",
       "      <td>0.05</td>\n",
       "      <td>0.98</td>\n",
       "      <td>0.98</td>\n",
       "    </tr>\n",
       "    <tr>\n",
       "      <th>achieved_occupancy</th>\n",
       "      <td>21.66%</td>\n",
       "      <td>24.23%</td>\n",
       "      <td>0.93</td>\n",
       "      <td>0.92</td>\n",
       "      <td>0.35</td>\n",
       "      <td>0.47</td>\n",
       "      <td>0.83</td>\n",
       "      <td>0.83</td>\n",
       "    </tr>\n",
       "    <tr>\n",
       "      <th>gpu_active_cycles</th>\n",
       "      <td>38.43%</td>\n",
       "      <td>62.67%</td>\n",
       "      <td>0.92</td>\n",
       "      <td>0.94</td>\n",
       "      <td>1.58</td>\n",
       "      <td>0.69</td>\n",
       "      <td>0.89</td>\n",
       "      <td>0.83</td>\n",
       "    </tr>\n",
       "    <tr>\n",
       "      <th>sm_active_cycles_sum</th>\n",
       "      <td>67.82%</td>\n",
       "      <td>98.30%</td>\n",
       "      <td>0.97</td>\n",
       "      <td>0.98</td>\n",
       "      <td>0.81</td>\n",
       "      <td>0.74</td>\n",
       "      <td>0.95</td>\n",
       "      <td>0.90</td>\n",
       "    </tr>\n",
       "    <tr>\n",
       "      <th>ipc</th>\n",
       "      <td>31.18%</td>\n",
       "      <td>40.59%</td>\n",
       "      <td>0.94</td>\n",
       "      <td>0.64</td>\n",
       "      <td>0.63</td>\n",
       "      <td>0.98</td>\n",
       "      <td>0.86</td>\n",
       "      <td>0.77</td>\n",
       "    </tr>\n",
       "    <tr>\n",
       "      <th>l1_hit_rate</th>\n",
       "      <td>15.91%</td>\n",
       "      <td>13.39%</td>\n",
       "      <td>0.99</td>\n",
       "      <td>0.99</td>\n",
       "      <td>0.13</td>\n",
       "      <td>0.09</td>\n",
       "      <td>0.87</td>\n",
       "      <td>0.90</td>\n",
       "    </tr>\n",
       "    <tr>\n",
       "      <th>l2_hit_rate</th>\n",
       "      <td>43.20%</td>\n",
       "      <td>24.95%</td>\n",
       "      <td>0.04</td>\n",
       "      <td>0.57</td>\n",
       "      <td>0.52</td>\n",
       "      <td>0.34</td>\n",
       "      <td>0.01</td>\n",
       "      <td>0.36</td>\n",
       "    </tr>\n",
       "    <tr>\n",
       "      <th>gmem_tot_reqs</th>\n",
       "      <td>8.85%</td>\n",
       "      <td>3.58%</td>\n",
       "      <td>1.00</td>\n",
       "      <td>1.00</td>\n",
       "      <td>0.55</td>\n",
       "      <td>0.01</td>\n",
       "      <td>0.98</td>\n",
       "      <td>0.99</td>\n",
       "    </tr>\n",
       "    <tr>\n",
       "      <th>gmem_tot_sectors</th>\n",
       "      <td>14.10%</td>\n",
       "      <td>8.52%</td>\n",
       "      <td>1.00</td>\n",
       "      <td>1.00</td>\n",
       "      <td>0.39</td>\n",
       "      <td>0.01</td>\n",
       "      <td>0.98</td>\n",
       "      <td>0.99</td>\n",
       "    </tr>\n",
       "    <tr>\n",
       "      <th>l2_tot_trans</th>\n",
       "      <td>45.25%</td>\n",
       "      <td>35.60%</td>\n",
       "      <td>0.99</td>\n",
       "      <td>0.99</td>\n",
       "      <td>1.00</td>\n",
       "      <td>0.67</td>\n",
       "      <td>0.95</td>\n",
       "      <td>0.96</td>\n",
       "    </tr>\n",
       "    <tr>\n",
       "      <th>dram_tot_trans</th>\n",
       "      <td>58.41%</td>\n",
       "      <td>55.65%</td>\n",
       "      <td>0.90</td>\n",
       "      <td>0.99</td>\n",
       "      <td>1.61</td>\n",
       "      <td>0.26</td>\n",
       "      <td>0.89</td>\n",
       "      <td>0.95</td>\n",
       "    </tr>\n",
       "  </tbody>\n",
       "</table>\n",
       "</div>"
      ],
      "text/plain": [
       "                        MAPE         Correlation       NRMSE        \\\n",
       "                         Old     New         Old   New   Old   New   \n",
       "warp_inst_executed     5.30%   5.30%        1.00  1.00  0.05  0.05   \n",
       "achieved_occupancy    21.66%  24.23%        0.93  0.92  0.35  0.47   \n",
       "gpu_active_cycles     38.43%  62.67%        0.92  0.94  1.58  0.69   \n",
       "sm_active_cycles_sum  67.82%  98.30%        0.97  0.98  0.81  0.74   \n",
       "ipc                   31.18%  40.59%        0.94  0.64  0.63  0.98   \n",
       "l1_hit_rate           15.91%  13.39%        0.99  0.99  0.13  0.09   \n",
       "l2_hit_rate           43.20%  24.95%        0.04  0.57  0.52  0.34   \n",
       "gmem_tot_reqs          8.85%   3.58%        1.00  1.00  0.55  0.01   \n",
       "gmem_tot_sectors      14.10%   8.52%        1.00  1.00  0.39  0.01   \n",
       "l2_tot_trans          45.25%  35.60%        0.99  0.99  1.00  0.67   \n",
       "dram_tot_trans        58.41%  55.65%        0.90  0.99  1.61  0.26   \n",
       "\n",
       "                     kendall_tau        \n",
       "                             Old   New  \n",
       "warp_inst_executed          0.98  0.98  \n",
       "achieved_occupancy          0.83  0.83  \n",
       "gpu_active_cycles           0.89  0.83  \n",
       "sm_active_cycles_sum        0.95  0.90  \n",
       "ipc                         0.86  0.77  \n",
       "l1_hit_rate                 0.87  0.90  \n",
       "l2_hit_rate                 0.01  0.36  \n",
       "gmem_tot_reqs               0.98  0.99  \n",
       "gmem_tot_sectors            0.98  0.99  \n",
       "l2_tot_trans                0.95  0.96  \n",
       "dram_tot_trans              0.89  0.95  "
      ]
     },
     "execution_count": 336,
     "metadata": {},
     "output_type": "execute_result"
    }
   ],
   "source": [
    "df_summary1 = get_summary_by_bench(df_sim1, filter_error_hw=True)\n",
    "df_summary2 = get_summary_by_bench(df_sim2, filter_error_hw=True)\n",
    "# print(df_summary2)\n",
    "_, select_df = print_compare_table(df_summary1, df_summary2, NRMSE=True)\n",
    "print(df_sim1.shape, df_sim2.shape)\n",
    "select_df"
   ]
  },
  {
   "cell_type": "code",
   "execution_count": 325,
   "id": "f569b2e3-8830-46a6-9d94-f9e0aa1c1b17",
   "metadata": {},
   "outputs": [],
   "source": [
    "paper_apps = df_sim1['app']"
   ]
  },
  {
   "cell_type": "markdown",
   "id": "cb0f6716-3316-4376-b016-94040514e57f",
   "metadata": {},
   "source": [
    "### 结果"
   ]
  },
  {
   "cell_type": "code",
   "execution_count": 126,
   "id": "74dca973-8e8a-424a-a806-469045abea64",
   "metadata": {},
   "outputs": [
    {
     "name": "stdout",
     "output_type": "stream",
     "text": [
      "rodinia-3.1\n",
      "polybench\n",
      "Tango\n",
      "pannotia\n",
      "rodinia-3.1\n",
      "polybench\n",
      "Tango\n",
      "pannotia\n"
     ]
    },
    {
     "name": "stderr",
     "output_type": "stream",
     "text": [
      "/staff/fyyuan/miniconda3/lib/python3.8/site-packages/numpy/lib/function_base.py:2846: RuntimeWarning: Degrees of freedom <= 0 for slice\n",
      "  c = cov(x, y, rowvar, dtype=dtype)\n",
      "/staff/fyyuan/miniconda3/lib/python3.8/site-packages/numpy/lib/function_base.py:2705: RuntimeWarning: divide by zero encountered in divide\n",
      "  c *= np.true_divide(1, fact)\n",
      "/staff/fyyuan/miniconda3/lib/python3.8/site-packages/numpy/lib/function_base.py:2705: RuntimeWarning: invalid value encountered in multiply\n",
      "  c *= np.true_divide(1, fact)\n",
      "/staff/fyyuan/miniconda3/lib/python3.8/site-packages/numpy/lib/function_base.py:2846: RuntimeWarning: Degrees of freedom <= 0 for slice\n",
      "  c = cov(x, y, rowvar, dtype=dtype)\n",
      "/staff/fyyuan/miniconda3/lib/python3.8/site-packages/numpy/lib/function_base.py:2705: RuntimeWarning: divide by zero encountered in divide\n",
      "  c *= np.true_divide(1, fact)\n",
      "/staff/fyyuan/miniconda3/lib/python3.8/site-packages/numpy/lib/function_base.py:2705: RuntimeWarning: invalid value encountered in multiply\n",
      "  c *= np.true_divide(1, fact)\n"
     ]
    },
    {
     "data": {
      "text/html": [
       "<div>\n",
       "<style scoped>\n",
       "    .dataframe tbody tr th:only-of-type {\n",
       "        vertical-align: middle;\n",
       "    }\n",
       "\n",
       "    .dataframe tbody tr th {\n",
       "        vertical-align: top;\n",
       "    }\n",
       "\n",
       "    .dataframe thead tr th {\n",
       "        text-align: left;\n",
       "    }\n",
       "</style>\n",
       "<table border=\"1\" class=\"dataframe\">\n",
       "  <thead>\n",
       "    <tr>\n",
       "      <th></th>\n",
       "      <th colspan=\"2\" halign=\"left\">MAPE</th>\n",
       "      <th colspan=\"2\" halign=\"left\">Correlation</th>\n",
       "    </tr>\n",
       "    <tr>\n",
       "      <th></th>\n",
       "      <th>Old</th>\n",
       "      <th>New</th>\n",
       "      <th>Old</th>\n",
       "      <th>New</th>\n",
       "    </tr>\n",
       "  </thead>\n",
       "  <tbody>\n",
       "    <tr>\n",
       "      <th>warp_inst_executed</th>\n",
       "      <td>8.26%</td>\n",
       "      <td>8.26%</td>\n",
       "      <td>0.98</td>\n",
       "      <td>0.98</td>\n",
       "    </tr>\n",
       "    <tr>\n",
       "      <th>achieved_occupancy</th>\n",
       "      <td>22.83%</td>\n",
       "      <td>23.33%</td>\n",
       "      <td>0.91</td>\n",
       "      <td>0.90</td>\n",
       "    </tr>\n",
       "    <tr>\n",
       "      <th>gpu_active_cycles</th>\n",
       "      <td>62.66%</td>\n",
       "      <td>17.76%</td>\n",
       "      <td>0.98</td>\n",
       "      <td>1.00</td>\n",
       "    </tr>\n",
       "    <tr>\n",
       "      <th>sm_active_cycles_sum</th>\n",
       "      <td>73.52%</td>\n",
       "      <td>29.70%</td>\n",
       "      <td>0.92</td>\n",
       "      <td>0.99</td>\n",
       "    </tr>\n",
       "    <tr>\n",
       "      <th>ipc</th>\n",
       "      <td>203.44%</td>\n",
       "      <td>243.40%</td>\n",
       "      <td>0.89</td>\n",
       "      <td>0.96</td>\n",
       "    </tr>\n",
       "    <tr>\n",
       "      <th>l1_hit_rate</th>\n",
       "      <td>16.85%</td>\n",
       "      <td>13.35%</td>\n",
       "      <td>0.97</td>\n",
       "      <td>0.98</td>\n",
       "    </tr>\n",
       "    <tr>\n",
       "      <th>l2_hit_rate</th>\n",
       "      <td>56.70%</td>\n",
       "      <td>21.64%</td>\n",
       "      <td>0.30</td>\n",
       "      <td>0.81</td>\n",
       "    </tr>\n",
       "    <tr>\n",
       "      <th>gmem_tot_reqs</th>\n",
       "      <td>10.19%</td>\n",
       "      <td>5.06%</td>\n",
       "      <td>1.00</td>\n",
       "      <td>1.00</td>\n",
       "    </tr>\n",
       "    <tr>\n",
       "      <th>gmem_tot_sectors</th>\n",
       "      <td>13.65%</td>\n",
       "      <td>7.97%</td>\n",
       "      <td>1.00</td>\n",
       "      <td>1.00</td>\n",
       "    </tr>\n",
       "    <tr>\n",
       "      <th>l2_tot_trans</th>\n",
       "      <td>27.11%</td>\n",
       "      <td>16.53%</td>\n",
       "      <td>0.97</td>\n",
       "      <td>0.99</td>\n",
       "    </tr>\n",
       "    <tr>\n",
       "      <th>dram_tot_trans</th>\n",
       "      <td>41.69%</td>\n",
       "      <td>20.93%</td>\n",
       "      <td>0.95</td>\n",
       "      <td>1.00</td>\n",
       "    </tr>\n",
       "  </tbody>\n",
       "</table>\n",
       "</div>"
      ],
      "text/plain": [
       "                         MAPE          Correlation      \n",
       "                          Old      New         Old   New\n",
       "warp_inst_executed      8.26%    8.26%        0.98  0.98\n",
       "achieved_occupancy     22.83%   23.33%        0.91  0.90\n",
       "gpu_active_cycles      62.66%   17.76%        0.98  1.00\n",
       "sm_active_cycles_sum   73.52%   29.70%        0.92  0.99\n",
       "ipc                   203.44%  243.40%        0.89  0.96\n",
       "l1_hit_rate            16.85%   13.35%        0.97  0.98\n",
       "l2_hit_rate            56.70%   21.64%        0.30  0.81\n",
       "gmem_tot_reqs          10.19%    5.06%        1.00  1.00\n",
       "gmem_tot_sectors       13.65%    7.97%        1.00  1.00\n",
       "l2_tot_trans           27.11%   16.53%        0.97  0.99\n",
       "dram_tot_trans         41.69%   20.93%        0.95  1.00"
      ]
     },
     "execution_count": 126,
     "metadata": {},
     "output_type": "execute_result"
    }
   ],
   "source": [
    "df_summary1 = get_summary_by_bench(df_sim1, filter_error_hw=True)\n",
    "df_summary2 = get_summary_by_bench(df_sim2, filter_error_hw=True)\n",
    "# print(df_summary2)\n",
    "_, select_df = print_compare_table(df_summary1, df_summary2, paper=True)\n",
    "select_df"
   ]
  },
  {
   "cell_type": "markdown",
   "id": "2a0964f6-02ec-484f-8208-2572b64a57a4",
   "metadata": {},
   "source": [
    "### 直接读取 summary 打印结果"
   ]
  },
  {
   "cell_type": "code",
   "execution_count": null,
   "id": "083d75c3-5da4-4df5-9dcc-42bf1b59c76e",
   "metadata": {
    "scrolled": true
   },
   "outputs": [],
   "source": [
    "df_summary1 = pd.read_excel(sim_res, sheet_name=\"apps_summary\", header=[0, 1], index_col=0)\n",
    "df_summary2 = pd.read_excel(sim_res2, sheet_name=\"apps_summary\", header=[0, 1], index_col=0)\n",
    "# df_summary1 = pd.read_excel(sim_res, sheet_name=\"kernels_summary\", header=[0, 1], index_col=0)\n",
    "# df_summary2 = pd.read_excel(sim_res2, sheet_name=\"kernels_summary\", header=[0, 1], index_col=0)\n",
    "# print(df_summary2)\n",
    "_, select_df = print_compare_table(df_summary1, df_summary2, NRMSE=True)"
   ]
  },
  {
   "cell_type": "code",
   "execution_count": null,
   "id": "1806f6f2-b42c-494f-bd7e-ea9956ef7bc6",
   "metadata": {},
   "outputs": [],
   "source": [
    "select_df"
   ]
  },
  {
   "cell_type": "markdown",
   "id": "e8700fbf-1498-4bd1-8ecd-95a4eccee59e",
   "metadata": {},
   "source": [
    "### 获取 app 信息"
   ]
  },
  {
   "cell_type": "code",
   "execution_count": null,
   "id": "da9db4af-fd34-4992-851b-6ca5f1ec7201",
   "metadata": {},
   "outputs": [],
   "source": [
    "# sys.path.insert(0, \"/staff/fyyuan/repo/PPT-GPU-memory/\")\n",
    "%load_ext autoreload\n",
    "%autoreload 2\n",
    "from scripts.common import parse_app_definition_yaml, get_suite_info, get_app_arg_list\n",
    "\n",
    "import inspect\n",
    "# print(inspect.getsource(get_suite_info))\n",
    "\n",
    "app_yaml = \"/staff/fyyuan/repo/PPT-GPU-memory/memory_model/memory-apps.yml\"\n",
    "# defined_apps = parse_app_definition_yaml(app_yaml)\n",
    "suite_info = get_suite_info(app_yaml)\n",
    "\n",
    "sim_res = 'memory_titanv_TITANV_ppt-gpu_base_CL32.xlsx'\n",
    "df_kernels = pd.read_excel(sim_res, sheet_name=\"kernels\")\n",
    "df_kernels = filter_app(df_kernels)\n",
    "df_apps = df_kernels.groupby('app', as_index=False, sort=False).size()\n",
    "df_apps.rename(columns={'size': 'Kernels'}, inplace=True)\n",
    "# df_apps"
   ]
  },
  {
   "cell_type": "code",
   "execution_count": null,
   "id": "30aba19e-d186-4c55-9735-c6ec0e47f33f",
   "metadata": {},
   "outputs": [],
   "source": [
    "import subprocess\n",
    "\n",
    "def get_dir_size(path, get_logic=True):\n",
    "    if get_logic:\n",
    "        cmd = f'du --apparent-size {path}'\n",
    "    else:\n",
    "        cmd = f\"du {path}\"\n",
    "    res = subprocess.run(cmd, shell=True, capture_output=True)\n",
    "    size = res.stdout.decode().split('\\t')[0]\n",
    "    # print(cmd)\n",
    "    # print(res.stdout.decode())\n",
    "    # exit(1)\n",
    "    return int(size)*1024\n",
    "    \n",
    "# print(df_sim1['app'])\n",
    "# 统计应用 Trace 大小，运行实例数目\n",
    "bench_info = {\n",
    "    'abbr': [],\n",
    "    'trace_size': [],\n",
    "}\n",
    "for app_arg in df_apps['app']:\n",
    "    abbr = suite_info['map'][app_arg][-1]\n",
    "    print(f\"{abbr}: {app_arg}\")\n",
    "    bench_info['abbr'].append(abbr)\n",
    "\n",
    "    trace_dir = '/staff/fyyuan/hw_trace01/ppt-gpu-titanv/11.0'\n",
    "    app_memory_trace_dir = os.path.join(trace_dir, app_arg, 'memory_traces')\n",
    "    # dir_size = 1\n",
    "    dir_size = get_dir_size(app_memory_trace_dir)\n",
    "    # print(dir_size)\n",
    "    bench_info['trace_size'].append(dir_size)\n",
    "df_bench_info = pd.concat([df_apps, pd.DataFrame(bench_info)], axis=1)\n",
    "df_bench_info"
   ]
  },
  {
   "cell_type": "code",
   "execution_count": null,
   "id": "3c422dbe-e1dd-411e-a478-6384cd6493b8",
   "metadata": {},
   "outputs": [],
   "source": [
    "g = df_bench_info.groupby('abbr', as_index=False, sort=False)\n",
    "\n",
    "df_bench_info2 = g.sum()\n",
    "df_bench_info2\n",
    "\n",
    "def bytes_to_human(x):\n",
    "    G, M, K = 2**30, 2**20, 2**10\n",
    "    if x >= G:\n",
    "        return f'{x/G:.0f}GB'\n",
    "    elif x >= M:\n",
    "        return f'{x/M:.0f}MB'\n",
    "    else:\n",
    "        return f'{x/K:.0f}KB'\n",
    "        \n",
    "print(f'total: {df_bench_info2[\"trace_size\"].sum()//2**30:.2f}GB')\n",
    "print(f'total Kernels: {df_bench_info2[\"Kernels\"].sum()}')\n",
    "df_bench_info2['Trace size'] = df_bench_info2['trace_size'].apply(bytes_to_human)\n",
    "df_bench_info2.drop(columns=['app'], inplace=True)\n",
    "df_bench_info3 = df_bench_info2\n",
    "df_bench_info3['Instance'] = g.size()['size']\n",
    "df_bench_info3.reindex(columns=['abbr','Instance', 'Kernels', 'Trace size'])"
   ]
  },
  {
   "cell_type": "markdown",
   "id": "a2f6a8ce-7b26-4a00-91e5-42279b48249f",
   "metadata": {},
   "source": [
    "## 画图"
   ]
  },
  {
   "cell_type": "code",
   "execution_count": 22,
   "id": "0e97ce50-5c31-4f04-855d-14fa0be8b0b9",
   "metadata": {},
   "outputs": [],
   "source": [
    "from scripts.common import get_suite_info"
   ]
  },
  {
   "cell_type": "code",
   "execution_count": 342,
   "id": "efdc512e-188e-49c1-aae1-396adabb808e",
   "metadata": {},
   "outputs": [],
   "source": [
    "def get_metric_df(df_sim1, df_sim2, metric):\n",
    "    '''df_sim1: PPT-GPU\n",
    "    df_sim2: Ours\n",
    "    '''\n",
    "    df1 = df_sim1[['app', f\"{metric}_sim\"]]\n",
    "    df2 = df_sim2[[f\"{metric}_sim\", f\"{metric}_hw\"]]\n",
    "    df_new = pd.concat([df1, df2], axis=1)\n",
    "\n",
    "    # rename columns\n",
    "    df_new.columns = ['APP', 'PPT-GPU', 'Ours', 'HW']\n",
    "\n",
    "    app_rename_map = {}\n",
    "    for app in df_new['APP']:\n",
    "        abbr = suite_info['map'][app][-1]\n",
    "        app_rename_map[app] = abbr\n",
    "    df_new['APP'] = df_new['APP'].map(app_rename_map)\n",
    "    df_new = df_new.set_index('APP')\n",
    "    return df_new\n",
    "\n",
    "def draw_bar(df_sim1, df_sim2, draw_list):\n",
    "    for metric in draw_list:\n",
    "        print(f\"Drawing {metric}...\")\n",
    "        df_metric = get_metric_df(df_sim1, df_sim2, metric)\n",
    "\n",
    "        # df_metric.plot.bar()\n",
    "        # save to excel\n",
    "        with pd.ExcelWriter(os.path.join(output_dir, f\"{metric}.xlsx\"), engine='xlsxwriter') as writer:\n",
    "            df_new.to_excel(writer, sheet_name=metric, index=False)"
   ]
  },
  {
   "cell_type": "markdown",
   "id": "51652b20-6944-4264-97ed-c062aa3f28f2",
   "metadata": {},
   "source": [
    "### MAPE 对比"
   ]
  },
  {
   "cell_type": "code",
   "execution_count": 144,
   "id": "cd413052-6915-4f0d-b25e-7c4d7aa40fe0",
   "metadata": {},
   "outputs": [],
   "source": [
    "def get_MAPE(df):\n",
    "    MAPE = (df[f'{metric}_sim'] - df[f'{metric}_hw']) / df[f'{metric}_hw']\n",
    "    MAPE.name = metric\n",
    "    MAPE.index = df['app']\n",
    "    \n",
    "    app_rename_map = {}\n",
    "    for app in df['app']:\n",
    "        abbr = suite_info['map'][app][-1]\n",
    "        app_rename_map[app] = abbr\n",
    "    MAPE.rename(index=app_rename_map, inplace=True)\n",
    "    return MAPE\n",
    "def get_corr(df):\n",
    "    y1, y2 = df[f'{metric}_sim'], df[f'{metric}_hw']\n",
    "    corr = np.corrcoef(y1, y2)[0, 1]\n",
    "    return corr"
   ]
  },
  {
   "cell_type": "code",
   "execution_count": 324,
   "id": "6754ef67-fb5a-4a4a-8680-d427528c63ff",
   "metadata": {},
   "outputs": [
    {
     "ename": "KeyError",
     "evalue": "'l1_bw_32f/NO_ARGS'",
     "output_type": "error",
     "traceback": [
      "\u001b[0;31m---------------------------------------------------------------------------\u001b[0m",
      "\u001b[0;31mKeyError\u001b[0m                                  Traceback (most recent call last)",
      "Cell \u001b[0;32mIn[324], line 2\u001b[0m\n\u001b[1;32m      1\u001b[0m metric\u001b[38;5;241m=\u001b[39m\u001b[38;5;124m'\u001b[39m\u001b[38;5;124mgpu_active_cycles\u001b[39m\u001b[38;5;124m'\u001b[39m\n\u001b[0;32m----> 2\u001b[0m MAPE1\u001b[38;5;241m=\u001b[39m\u001b[43mget_MAPE\u001b[49m\u001b[43m(\u001b[49m\u001b[43mdf_sim1\u001b[49m\u001b[43m)\u001b[49m\n\u001b[1;32m      3\u001b[0m MAPE2\u001b[38;5;241m=\u001b[39mget_MAPE(df_sim2)\n\u001b[1;32m      4\u001b[0m df \u001b[38;5;241m=\u001b[39m pd\u001b[38;5;241m.\u001b[39mconcat([MAPE1, MAPE2], axis\u001b[38;5;241m=\u001b[39m\u001b[38;5;241m1\u001b[39m)\n",
      "Cell \u001b[0;32mIn[144], line 8\u001b[0m, in \u001b[0;36mget_MAPE\u001b[0;34m(df)\u001b[0m\n\u001b[1;32m      6\u001b[0m app_rename_map \u001b[38;5;241m=\u001b[39m {}\n\u001b[1;32m      7\u001b[0m \u001b[38;5;28;01mfor\u001b[39;00m app \u001b[38;5;129;01min\u001b[39;00m df[\u001b[38;5;124m'\u001b[39m\u001b[38;5;124mapp\u001b[39m\u001b[38;5;124m'\u001b[39m]:\n\u001b[0;32m----> 8\u001b[0m     abbr \u001b[38;5;241m=\u001b[39m \u001b[43msuite_info\u001b[49m\u001b[43m[\u001b[49m\u001b[38;5;124;43m'\u001b[39;49m\u001b[38;5;124;43mmap\u001b[39;49m\u001b[38;5;124;43m'\u001b[39;49m\u001b[43m]\u001b[49m\u001b[43m[\u001b[49m\u001b[43mapp\u001b[49m\u001b[43m]\u001b[49m[\u001b[38;5;241m-\u001b[39m\u001b[38;5;241m1\u001b[39m]\n\u001b[1;32m      9\u001b[0m     app_rename_map[app] \u001b[38;5;241m=\u001b[39m abbr\n\u001b[1;32m     10\u001b[0m MAPE\u001b[38;5;241m.\u001b[39mrename(index\u001b[38;5;241m=\u001b[39mapp_rename_map, inplace\u001b[38;5;241m=\u001b[39m\u001b[38;5;28;01mTrue\u001b[39;00m)\n",
      "\u001b[0;31mKeyError\u001b[0m: 'l1_bw_32f/NO_ARGS'"
     ]
    }
   ],
   "source": [
    "metric='gpu_active_cycles'\n",
    "MAPE1=get_MAPE(df_sim1)\n",
    "MAPE2=get_MAPE(df_sim2)\n",
    "df = pd.concat([MAPE1, MAPE2], axis=1)\n",
    "print(df.mean())\n",
    "print(df.abs().mean())\n",
    "df_abs = df\n",
    "df_abs[metric]=abs(df[metric])\n",
    "df_abs.plot.bar()"
   ]
  },
  {
   "cell_type": "markdown",
   "id": "6979769c-c2ec-4aae-ab76-8ddeb19301e9",
   "metadata": {},
   "source": [
    "### 条形图对比"
   ]
  },
  {
   "cell_type": "code",
   "execution_count": 283,
   "id": "e1d23b13-9498-429b-8a12-047813ebcb9e",
   "metadata": {},
   "outputs": [
    {
     "data": {
      "text/plain": [
       "<Axes: xlabel='APP'>"
      ]
     },
     "execution_count": 283,
     "metadata": {},
     "output_type": "execute_result"
    },
    {
     "data": {
      "image/png": "[encoded data removed]",
      "text/plain": [
       "<Figure size 640x480 with 1 Axes>"
      ]
     },
     "metadata": {},
     "output_type": "display_data"
    }
   ],
   "source": [
    "df1 = get_metric_df(df_sim1, df_sim2, 'gpu_active_cycles')\n",
    "df1.plot.bar()"
   ]
  },
  {
   "cell_type": "code",
   "execution_count": null,
   "id": "cf203d1f-a1e6-4937-8b4d-f43f8da5a162",
   "metadata": {},
   "outputs": [],
   "source": [
    "# pd.DataFrame({'ld': df1, 'st': df2, 'tot': df3})"
   ]
  },
  {
   "cell_type": "code",
   "execution_count": null,
   "id": "3c97a958-0025-408a-8c2c-f083784f6d10",
   "metadata": {},
   "outputs": [],
   "source": [
    "def get_MAPE(df):\n",
    "    df2 = (df['PPT-GPU'] - df['HW'])/df['HW']\n",
    "    df3 = (df['Ours'] - df['HW'])/df['HW']\n",
    "    df4 = pd.concat([df2, df3], axis=1)\n",
    "    return df4\n",
    "def get_big(df):\n",
    "    df2 = (df['PPT-GPU'] > df['HW'])\n",
    "    df3 = (df['Ours'] > df['HW'])\n",
    "    df4 = pd.concat([df2, df3], axis=1)\n",
    "    return df4"
   ]
  },
  {
   "cell_type": "code",
   "execution_count": null,
   "id": "5a22c1d2-938c-441c-946d-49cf952517ce",
   "metadata": {},
   "outputs": [],
   "source": [
    "BIG = get_big(df2).sum()\n",
    "BIG"
   ]
  },
  {
   "cell_type": "code",
   "execution_count": null,
   "id": "c652d213-2b23-46da-af8e-7de8f7e091b5",
   "metadata": {},
   "outputs": [],
   "source": [
    "MAPE = get_MAPE(df2)\n",
    "print(MAPE.mean())\n",
    "print(MAPE.abs().mean())\n",
    "MAPE"
   ]
  },
  {
   "cell_type": "code",
   "execution_count": null,
   "id": "797f7765-31e2-4ff7-a2a6-82b2837706b0",
   "metadata": {},
   "outputs": [],
   "source": [
    "df4.plot.bar()"
   ]
  },
  {
   "cell_type": "code",
   "execution_count": null,
   "id": "8edc9b60-43f2-4bab-ae3b-aa692baeb55f",
   "metadata": {},
   "outputs": [],
   "source": [
    "df.plot.bar()"
   ]
  },
  {
   "cell_type": "markdown",
   "id": "10217173-361a-4ca0-a4d8-887d4c4146d6",
   "metadata": {},
   "source": [
    "### Corrleation"
   ]
  },
  {
   "cell_type": "code",
   "execution_count": 250,
   "id": "95b444a8-0af9-416e-b9a7-31c9a26d90d0",
   "metadata": {},
   "outputs": [],
   "source": [
    "import json\n",
    "\n",
    "from matplotlib import pyplot as plt\n",
    "import pandas as pd\n",
    "\n",
    "dot_size = 50\n",
    "is_black = False\n",
    "def plot_sub(fig, ax, df, stat, log=False, log_x_min=-1, legend=True):\n",
    "    y1, y2, y3 = df['PPT-GPU'], df['Ours'], df['HW']\n",
    "    \n",
    "    # 绘制散点图\n",
    "    def get(y1, y2):\n",
    "        non_zero_idxs = y1 != 0\n",
    "        MAPE = np.mean(np.abs(y1[non_zero_idxs] - y2[non_zero_idxs])/y1[non_zero_idxs])\n",
    "        # MAPE = ((y2 - y1)/y1).abs().mean()\n",
    "        corr = np.corrcoef(y1, y2)[0, 1]\n",
    "        kendall_tau = y1.corr(y2, method='kendall')\n",
    "        if MAPE > 1:\n",
    "            return f'Corr: {corr:.2} Err: {MAPE:.1f} {kendall_tau:.2f}'\n",
    "        else:\n",
    "            return f'Corr: {corr:.2} Err: {MAPE:.2f} {kendall_tau:.2f}'\n",
    "    \n",
    "    \n",
    "    if is_black:\n",
    "        # 使用不同的标记形状和填充\n",
    "        ax.scatter(y3, y2, color='black', s=dot_size, marker='o', label=f'Our [{get(y3, y2)}]', edgecolors='0.3', linewidths=1, facecolors='0.8')  # 空心圆\n",
    "        ax.scatter(y3, y1, color='black', s=dot_size, marker='^', label=f'PPT. [{get(y3, y1)}]', edgecolors='0.7', linewidths=1, facecolors='0.2')  # 斜线填充三角形\n",
    "    else:\n",
    "        ax.scatter(y3, y2, color=(1, 0.2, 0.2, 0.5), s=dot_size, marker='o', label=f'Our [{get(y3, y2)}]')  # 蓝色，透明\n",
    "        ax.scatter(y3, y1, color=(0.2, 0.6, 1, 0.5), s=dot_size, marker='^', label=f'PPT. [{get(y3, y1)}]')  # 红色，透明\n",
    "    \n",
    "    if legend:\n",
    "        if is_black:\n",
    "            legend = ax.legend(frameon=True, edgecolor='black') #添加图例边框\n",
    "            frame = legend.get_frame()\n",
    "            frame.set_linewidth(1)\n",
    "        else:\n",
    "            ax.legend()\n",
    "\n",
    "    # 计算范围\n",
    "    min_val = min(min(y1.min(), y2.min()), y3.min())\n",
    "    max_val = max(y1.max(), y2.max(), y3.max())\n",
    "    # min_val -= 0.1 * (max_val - min_val)\n",
    "    max_val *= 1.1\n",
    "\n",
    "    # 绘制参考线\n",
    "    ax.plot([min_val, max_val], [min_val, max_val],\n",
    "            color='black', linestyle='--', linewidth=1, alpha=0.7)\n",
    "\n",
    "    # 设置对数坐标轴\n",
    "    if log:\n",
    "        ax.set_xscale('log')\n",
    "        ax.set_yscale('log')\n",
    "\n",
    "        print(min_val, max_val)\n",
    "        if log_x_min!=-1:\n",
    "            ax.set_xlim(log_x_min, max_val)\n",
    "            ax.set_ylim(log_x_min, max_val)\n",
    "        else:\n",
    "            ax.set_xlim(max(min_val, 1), max_val)\n",
    "            ax.set_ylim(max(min_val, 1), max_val)\n",
    "        \n",
    "        # # 计算对数范围\n",
    "        # log_min = np.log10(min_val)\n",
    "        # log_max = np.log10(max_val)\n",
    "        \n",
    "        # # 设置一致的对数坐标范围\n",
    "        # ax.set_xlim(10**log_min, 10**log_max)\n",
    "        # ax.set_ylim(10**log_min, 10**log_max)\n",
    "    else:\n",
    "        ax.set_xlim(min_val, max_val)\n",
    "        ax.set_ylim(min_val, max_val)\n",
    "\n",
    "    # 美化边框\n",
    "    # ax.spines['top'].set_visible(False)   # 隐藏顶部边框\n",
    "    # ax.spines['right'].set_visible(False) # 隐藏右侧边框\n",
    "    # ax.spines['left'].set_linewidth(1.5)  # 设置左侧边框线宽\n",
    "    # ax.spines['bottom'].set_linewidth(1.5) # 设置底部边框线宽\n",
    "\n",
    "    # 设置刻度样式\n",
    "    # ax.tick_params(axis='both', which='major', direction='in', length=6, width=1.5, labelsize=12)\n",
    "    # ax.tick_params(axis='both', which='minor', direction='in', length=3, width=1)\n",
    "\n",
    "    # 设置坐标轴标签字体为 Times New Roman\n",
    "    font = {\n",
    "            # 'fontname': 'Times New Roman',\n",
    "            # 'fontsize': 12\n",
    "        }\n",
    "    ax.set_xlabel(f\"Hardware {stat}\", **font)\n",
    "    ax.set_ylabel(f\"Simulate {stat}\", **font)\n",
    "\n",
    "    # 设置相等比例\n",
    "    ax.set_aspect('equal', adjustable='box')\n",
    "\n",
    "def draw_correl2(df1, df2, save_img, stat, log=False, log_x_min=-1, save_pdf='output.pdf', updown=False, figsize=(9, 4)):\n",
    "    if updown:\n",
    "        fig, axes = plt.subplots(2, 1, figsize=(8, 8))  # 设置画布大小\n",
    "    else:\n",
    "        fig, axes = plt.subplots(1, 2, figsize=figsize)  # 设置画布大小\n",
    "    plot_sub(fig, axes[0], df1, stat[0])\n",
    "    plot_sub(fig, axes[1], df2, stat[1])\n",
    "\n",
    "    plt.tight_layout()\n",
    "    # 保存图片\n",
    "    fig.savefig(save_img, dpi=300, bbox_inches='tight')  # 高分辨率保存\n",
    "    fig.savefig(save_pdf, format='pdf', bbox_inches='tight')\n",
    "    plt.show()\n",
    "    plt.close(fig)\n",
    "\n",
    "def draw_correl3(df1, df2, df3, save_img, stat, log=False, log_x_min=-1, save_pdf='output.pdf', updown=False, figsize=(9, 4)):\n",
    "    fig, axes = plt.subplots(1, 3, figsize=figsize)  # 设置画布大小\n",
    "    plot_sub(fig, axes[0], df1, stat[0], log=log, log_x_min=-1)\n",
    "    plot_sub(fig, axes[1], df2, stat[1], log=log, log_x_min=-1, legend=True)\n",
    "    plot_sub(fig, axes[2], df3, stat[2], log=log, log_x_min=-1, legend=True)\n",
    "\n",
    "    plt.tight_layout()\n",
    "    # 保存图片\n",
    "    fig.savefig(save_img, dpi=300, bbox_inches='tight')  # 高分辨率保存\n",
    "    fig.savefig(save_pdf, format='pdf', bbox_inches='tight')\n",
    "    plt.show()\n",
    "    plt.close(fig)\n",
    "    \n",
    "def draw_correl(df, save_img, stat, log=False, log_x_min=-1, save_pdf='output.pdf'):\n",
    "    fig, ax = plt.subplots(figsize=(4, 4))\n",
    "    \n",
    "    plot_sub(fig, ax, df, stat, log, log_x_min)\n",
    "    # 保存图片\n",
    "    fig.savefig(save_img, dpi=300, bbox_inches='tight')  # 高分辨率保存\n",
    "    fig.savefig(save_pdf, format='pdf', bbox_inches='tight')\n",
    "    plt.show()\n",
    "    plt.close(fig)\n"
   ]
  },
  {
   "cell_type": "markdown",
   "id": "622a12c3-969f-425f-8ff2-c526886289c1",
   "metadata": {},
   "source": [
    "#### plot"
   ]
  },
  {
   "cell_type": "code",
   "execution_count": 343,
   "id": "0f3e79e5-81b0-444c-802a-68d10ac4b249",
   "metadata": {},
   "outputs": [
    {
     "ename": "KeyError",
     "evalue": "'l1_bw_32f/NO_ARGS'",
     "output_type": "error",
     "traceback": [
      "\u001b[0;31m---------------------------------------------------------------------------\u001b[0m",
      "\u001b[0;31mKeyError\u001b[0m                                  Traceback (most recent call last)",
      "Cell \u001b[0;32mIn[343], line 1\u001b[0m\n\u001b[0;32m----> 1\u001b[0m df1 \u001b[38;5;241m=\u001b[39m \u001b[43mget_metric_df\u001b[49m\u001b[43m(\u001b[49m\u001b[43mdf_sim1\u001b[49m\u001b[43m,\u001b[49m\u001b[43m \u001b[49m\u001b[43mdf_sim2\u001b[49m\u001b[43m,\u001b[49m\u001b[43m \u001b[49m\u001b[38;5;124;43m'\u001b[39;49m\u001b[38;5;124;43mgpu_active_cycles\u001b[39;49m\u001b[38;5;124;43m'\u001b[39;49m\u001b[43m)\u001b[49m\n\u001b[1;32m      2\u001b[0m \u001b[38;5;66;03m# draw_correl(df1, 'tmp_draw/corr_cycle.png', 'Cycle', log=True)\u001b[39;00m\n",
      "Cell \u001b[0;32mIn[342], line 14\u001b[0m, in \u001b[0;36mget_metric_df\u001b[0;34m(df_sim1, df_sim2, metric)\u001b[0m\n\u001b[1;32m     12\u001b[0m app_rename_map \u001b[38;5;241m=\u001b[39m {}\n\u001b[1;32m     13\u001b[0m \u001b[38;5;28;01mfor\u001b[39;00m app \u001b[38;5;129;01min\u001b[39;00m df_new[\u001b[38;5;124m'\u001b[39m\u001b[38;5;124mAPP\u001b[39m\u001b[38;5;124m'\u001b[39m]:\n\u001b[0;32m---> 14\u001b[0m     abbr \u001b[38;5;241m=\u001b[39m \u001b[43msuite_info\u001b[49m\u001b[43m[\u001b[49m\u001b[38;5;124;43m'\u001b[39;49m\u001b[38;5;124;43mmap\u001b[39;49m\u001b[38;5;124;43m'\u001b[39;49m\u001b[43m]\u001b[49m\u001b[43m[\u001b[49m\u001b[43mapp\u001b[49m\u001b[43m]\u001b[49m[\u001b[38;5;241m-\u001b[39m\u001b[38;5;241m1\u001b[39m]\n\u001b[1;32m     15\u001b[0m     app_rename_map[app] \u001b[38;5;241m=\u001b[39m abbr\n\u001b[1;32m     16\u001b[0m df_new[\u001b[38;5;124m'\u001b[39m\u001b[38;5;124mAPP\u001b[39m\u001b[38;5;124m'\u001b[39m] \u001b[38;5;241m=\u001b[39m df_new[\u001b[38;5;124m'\u001b[39m\u001b[38;5;124mAPP\u001b[39m\u001b[38;5;124m'\u001b[39m]\u001b[38;5;241m.\u001b[39mmap(app_rename_map)\n",
      "\u001b[0;31mKeyError\u001b[0m: 'l1_bw_32f/NO_ARGS'"
     ]
    }
   ],
   "source": [
    "df1 = get_metric_df(df_sim1, df_sim2, 'gpu_active_cycles')\n",
    "# draw_correl(df1, 'tmp_draw/corr_cycle.png', 'Cycle', log=True)"
   ]
  },
  {
   "cell_type": "code",
   "execution_count": 268,
   "id": "ada006ec-26a8-4d81-98af-6bef522f587d",
   "metadata": {},
   "outputs": [],
   "source": [
    "dot_size = 20\n",
    "df1 = get_metric_df(df_sim1, df_sim2, 'gpu_active_cycles')\n",
    "df2 = get_metric_df(df_sim1, df_sim2, 'sm_active_cycles_sum')\n",
    "df3 = get_metric_df(df_sim1, df_sim2, 'achieved_occupancy')"
   ]
  },
  {
   "cell_type": "code",
   "execution_count": 269,
   "id": "ba6284b7-6599-4f37-8d5f-261efe030ce1",
   "metadata": {},
   "outputs": [
    {
     "name": "stdout",
     "output_type": "stream",
     "text": [
      "737 11622997.100000001\n",
      "1235 279469696.0\n",
      "0.0156 1.0855344809901537\n"
     ]
    },
    {
     "data": {
      "image/png": "[encoded data removed]",
      "text/plain": [
       "<Figure size 1200x800 with 3 Axes>"
      ]
     },
     "metadata": {},
     "output_type": "display_data"
    },
    {
     "data": {
      "image/png": "[encoded data removed]",
      "text/plain": [
       "<Figure size 1200x800 with 3 Axes>"
      ]
     },
     "metadata": {},
     "output_type": "display_data"
    }
   ],
   "source": [
    "dot_size = 70\n",
    "is_black = False\n",
    "# draw_correl2(df1, df2, 'tmp_draw/corrl_dram.png', ['DRAM Writes', 'DRAM Total Req'], log=False, save_pdf='DRAM.pdf')\n",
    "draw_correl3(df1, df2, df3, 'tmp_draw/corr.png', ['Cycle', 'SM Cycles', 'Occupy'], log=True, save_pdf='corr_3.pdf', figsize=(12, 8))\n",
    "# draw_correl2(df3, df2, 'tmp_draw/corrl_dram_2.png', ['DRAM Reads', 'DRAM Total'], log=False, save_pdf='corrl_dram_2.pdf', figsize=(8, 8))\n",
    "\n",
    "draw_correl3(df1, df2, df3, 'tmp_draw/corr.png', ['Cycle', 'SM Cycles', 'Occupy'], save_pdf='corr_3.pdf', figsize=(12, 8))\n"
   ]
  },
  {
   "cell_type": "code",
   "execution_count": null,
   "id": "eb223fea-f887-490d-97d0-94265c85b878",
   "metadata": {},
   "outputs": [],
   "source": []
  }
 ],
 "metadata": {
  "kernelspec": {
   "display_name": "Python 3 (ipykernel)",
   "language": "python",
   "name": "python3"
  },
  "language_info": {
   "codemirror_mode": {
    "name": "ipython",
    "version": 3
   },
   "file_extension": ".py",
   "mimetype": "text/x-python",
   "name": "python",
   "nbconvert_exporter": "python",
   "pygments_lexer": "ipython3",
   "version": "3.8.16"
  }
 },
 "nbformat": 4,
 "nbformat_minor": 5
}
