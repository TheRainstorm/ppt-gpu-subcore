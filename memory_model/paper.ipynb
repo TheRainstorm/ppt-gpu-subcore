{
 "cells": [
  {
   "cell_type": "markdown",
   "id": "d6ffed54-6f3f-4056-aa25-e807b8d69104",
   "metadata": {},
   "source": [
    "## 输出总结果"
   ]
  },
  {
   "cell_type": "code",
   "execution_count": 3,
   "id": "d7e7f502-2d32-4367-8cd5-d6e1f4531964",
   "metadata": {},
   "outputs": [
    {
     "name": "stdout",
     "output_type": "stream",
     "text": [
      "/staff/fyyuan/repo/PPT-GPU-memory\n"
     ]
    }
   ],
   "source": [
    "import argparse\n",
    "import json\n",
    "import sys, os\n",
    "import pandas as pd\n",
    "import numpy as np\n",
    "\n",
    "# os.chdir('..')\n",
    "print(os.getcwd())"
   ]
  },
  {
   "cell_type": "code",
   "execution_count": 9,
   "id": "83d971dc-f343-470c-9133-7df529e05bae",
   "metadata": {},
   "outputs": [],
   "source": [
    "def get_summary(df, filter_error_hw=False):\n",
    "    cmp_list = [\"l1_hit_rate\", \"l1_hit_rate_g\", \"l1_hit_rate_ldg\", \"l1_hit_rate_stg\", \"l2_hit_rate\", \"l2_hit_rate_ld\", \"l2_hit_rate_st\",\n",
    "            \"l2_ld_trans\",\"l2_st_trans\",\"l2_tot_trans\",\"dram_ld_trans\",\"dram_st_trans\",\"dram_tot_trans\",\n",
    "            \"gmem_tot_reqs\", \"gmem_ld_sectors\", \"gmem_st_sectors\", \"gmem_tot_sectors\", \"gmem_ld_diverg\"]\n",
    "    \n",
    "    data = []\n",
    "    for key in cmp_list:\n",
    "        y1, y2 = df[f\"{key}_hw\"], df[f\"{key}_sim\"]\n",
    "\n",
    "        if filter_error_hw:\n",
    "            if \"hit_rate\" in key:\n",
    "                valid_hw_res = y1 <= 1.01\n",
    "                # print(y1.shape)\n",
    "                shape1 = y1.shape\n",
    "                y1 = y1[valid_hw_res]\n",
    "                # print(y1.shape)\n",
    "                shape2 = y1.shape\n",
    "                if shape1 != shape2:\n",
    "                    print(f\"{key}: {shape1} -> {shape2}\")\n",
    "                y2 = y2[valid_hw_res]\n",
    "        \n",
    "        non_zero_idxs = y1 != 0\n",
    "        MAPE = np.mean(np.abs(y1[non_zero_idxs] - y2[non_zero_idxs])/y1[non_zero_idxs])\n",
    "\n",
    "        MAE = np.mean(np.abs(y1-y2))\n",
    "        RMSE = np.sqrt(np.mean((y1 - y2)**2))\n",
    "        NRMSE = np.sqrt(np.mean((y1 - y2)**2)) / np.mean(y1)\n",
    "        corr = np.corrcoef(y1, y2)[0, 1]\n",
    "\n",
    "        data.append({\"MAPE\": MAPE, \"NRMSE\": NRMSE, \"Correlation\": corr, 'MAE': MAE, 'RMSE':RMSE})\n",
    "    df_summary = pd.DataFrame(data, index=cmp_list)\n",
    "    return df_summary\n",
    "def get_summary_by_bench(df, filter_error_hw=False):\n",
    "    df_list = []\n",
    "    keys = [\"all\"]\n",
    "    df_list.append(get_summary(df, filter_error_hw=filter_error_hw))\n",
    "    \n",
    "    bench_groupby = df.groupby(\"bench\", sort=False, as_index=False)\n",
    "    for bench, group in bench_groupby:\n",
    "        print(bench)\n",
    "        df_list.append(get_summary(group, filter_error_hw=filter_error_hw))\n",
    "        keys.append(bench)\n",
    "    \n",
    "    df_summary = pd.concat(df_list, keys=keys, axis=1)\n",
    "    return df_summary"
   ]
  },
  {
   "cell_type": "code",
   "execution_count": 10,
   "id": "09eb803c-9ea3-49e6-8429-d436731cd155",
   "metadata": {},
   "outputs": [],
   "source": [
    "def print_compare_table(df_sim1, df_sim2, NRMSE=True, paper=False):\n",
    "    cmp_list = {\n",
    "        'gmem_tot_reqs': 'L1 Reqs',\n",
    "        'gmem_tot_sectors': 'L1 Sectors',\n",
    "        'l1_hit_rate': 'L1 Hit Rate',\n",
    "        'l1_hit_rate_g': 'L1 Hit Rate Global',\n",
    "        'l1_hit_rate_ldg': 'L1 Hit Rate Global Load',\n",
    "        'l1_hit_rate_stg': 'L1 Hit Rate Global Store',\n",
    "        'l2_ld_trans': 'L2 Reads',\n",
    "        'l2_st_trans': 'L2 Writes',\n",
    "        'l2_tot_trans': 'L2 Total Reqs',\n",
    "        'l2_hit_rate': 'L2 Hit Rate',\n",
    "        'l2_hit_rate_ld': 'L2 Read Hit Rate',\n",
    "        'l2_hit_rate_st': 'L2 Write Hit Rate',\n",
    "        'dram_ld_trans': 'DRAM Reads',\n",
    "        'dram_st_trans': 'DRAM Writes',\n",
    "        'dram_tot_trans': 'DRAM Total Reqs',\n",
    "    }\n",
    "    if paper:\n",
    "        del cmp_list['gmem_tot_reqs']\n",
    "        del cmp_list['gmem_tot_sectors']\n",
    "        del cmp_list['l1_hit_rate_stg']\n",
    "        del cmp_list['l2_hit_rate_st']\n",
    "        NRMSE =False\n",
    "    \n",
    "    def to_percentage(x):\n",
    "        return \"{:.2%}\".format(x)\n",
    "    def round_2digt(x):\n",
    "        return \"{:.2f}\".format(x)\n",
    "    L = []\n",
    "    if NRMSE:\n",
    "        eval_metrics = ['MAPE', 'Correlation', 'NRMSE']\n",
    "    else:\n",
    "        eval_metrics = ['MAPE', 'Correlation']\n",
    "    # eval_metrics = ['MAPE', 'Correlation', 'NRMSE', 'MAE', 'RMSE']\n",
    "    for eval_metric in eval_metrics:\n",
    "        if 'MAPE' == eval_metric:\n",
    "            s1 = df_sim1[('all', eval_metric)].apply(to_percentage)\n",
    "            s2 = df_sim2[('all', eval_metric)].apply(to_percentage)\n",
    "        # elif 'Correlation'== eval_metric:\n",
    "        elif True:\n",
    "            s1 = df_sim1[('all', eval_metric)].apply(round_2digt)\n",
    "            s2 = df_sim2[('all', eval_metric)].apply(round_2digt)\n",
    "        else:\n",
    "            s1 = df_sim1[('all', eval_metric)]\n",
    "            s2 = df_sim2[('all', eval_metric)]\n",
    "        L.append(s1)\n",
    "        L.append(s2)\n",
    "    merge_df = pd.concat(L, axis=1)\n",
    "    merge_df.columns = pd.MultiIndex.from_product([eval_metrics, ['Old', 'New']])\n",
    "\n",
    "    # rename metrics\n",
    "    select_df = merge_df.loc[cmp_list.keys()].rename(index=cmp_list)\n",
    "    return merge_df,select_df"
   ]
  },
  {
   "cell_type": "markdown",
   "id": "7c5e62f8-70de-47d7-b2f8-620d119df56c",
   "metadata": {},
   "source": [
    "### 读取 Excel"
   ]
  },
  {
   "cell_type": "code",
   "execution_count": 25,
   "id": "870bfe3b-2769-448d-8ab3-4b14717761fb",
   "metadata": {
    "editable": true,
    "slideshow": {
     "slide_type": ""
    },
    "tags": []
   },
   "outputs": [
    {
     "name": "stdout",
     "output_type": "stream",
     "text": [
      "(49, 39) (49, 39)\n"
     ]
    }
   ],
   "source": [
    "# sim_res = 'memory_ppt-gpu_CL128.xlsx'\n",
    "# sim_res = 'memory_ppt-gpu_CL32.xlsx'\n",
    "# sim_res2 = 'memory_simulator.xlsx'\n",
    "\n",
    "# sim_res = 'memory_titanv_TITANV_ppt-gpu_base_CL32_34.xlsx'\n",
    "# sim_res2 = 'memory_titanv_TITANV_simulator_base_34.xlsx'\n",
    "\n",
    "# sim_res = 'memory_titanv_A100-40G_ppt-gpu_base_CL32_34.xlsx'\n",
    "# sim_res2 = 'memory_titanv_A100-40G_simulator_base_34.xlsx'\n",
    "\n",
    "sim_res = 'memory_titanv_TITANV_ppt-gpu_base_CL32.xlsx'\n",
    "# sim_res = 'memory_titanv_TITANV_ppt-gpu_base_CL128.xlsx'\n",
    "sim_res2 = 'memory_titanv_TITANV_simulator_base.xlsx'\n",
    "# sim_res2 = 'memory_titanv_TITANV_simulator_no_flush_l2.xlsx'\n",
    "# sim_res2 = 'memory_titanv_TITANV_simulator_fix_l2_write_hit_rate.xlsx'\n",
    "# sim_res2 = 'memory_titanv_TITANV_sdcm_base.xlsx'\n",
    "# sim_res2 = 'memory_titanv_TITANV_sdcmL1_base.xlsx'\n",
    "\n",
    "# sim_res = 'xlsx_backup_2024_12_9/memory_titanv_TITANV_ppt-gpu_base_CL32.xlsx'\n",
    "# # sim_res = 'memory_titanv_TITANV_ppt-gpu_base_CL128.xlsx'\n",
    "# sim_res2 = 'xlsx_backup_2024_12_9/memory_titanv_TITANV_simulator_base.xlsx'\n",
    "\n",
    "# # filter\n",
    "# sim_res = 'memory_titanv_TITANV_simulator_base.xlsx'\n",
    "# sim_res2 = 'memory_titanv_TITANV_simulator_nofilterl2.xlsx'\n",
    "# sim_res2 = 'memory_titanv_TITANV_simulator_no_adaptive.xlsx'\n",
    "\n",
    "# # sector\n",
    "# sim_res = 'memory_titanv_TITANV_simulator_base.xlsx'\n",
    "# # sim_res2 = 'memory_titanv_TITANV_simulator_l2_64CL_32S.xlsx'\n",
    "# # sim_res2 = 'memory_titanv_TITANV_simulator_l2_64CL_64S.xlsx'\n",
    "# sim_res2 = 'memory_titanv_TITANV_simulator_sector_l1_CL32.xlsx'\n",
    "# # sim_res2 = 'memory_titanv_TITANV_simulator_sector_l1_CL128.xlsx'\n",
    "# sim_res2 = 'memory_titanv_TITANV_simulator_sector_l2_CL32.xlsx'\n",
    "# # sim_res2 = 'memory_titanv_TITANV_simulator_sector_l2_CL128.xlsx'\n",
    "\n",
    "# ## ampere\n",
    "# sim_res = 'memory_titanv_A100-40G_ppt-gpu_base_CL32.xlsx'\n",
    "# sim_res2 = 'memory_titanv_A100-40G_simulator_base.xlsx'\n",
    "# sim_res2 = 'memory_titanv_A100-40G_sdcmL1_base.xlsx'\n",
    "# sim_res2 = 'memory_titanv_A100-40G_sdcm_base.xlsx'\n",
    "\n",
    "# sim_res = 'memory_titanv_A100-40G_simulator_base.xlsx'\n",
    "# sim_res2 = 'memory_titanv_A100-40G_simulator_ampere_l1_16A.xlsx'\n",
    "# sim_res2 = 'memory_titanv_A100-40G_simulator_ampere_l1_64A.xlsx'\n",
    "# sim_res2 = 'memory_titanv_A100-40G_simulator_ampere_l2_16A.xlsx'\n",
    "# sim_res2 = 'memory_titanv_A100-40G_simulator_ampere_l2_64A.xlsx'\n",
    "\n",
    "# sim_res = 'memory_a100-40g_A100-40G_ppt-gpu_base_CL32.xlsx'\n",
    "# sim_res2 = 'memory_a100-40g_A100-40G_simulator_base.xlsx'\n",
    "\n",
    "output_dir = 'paper_draw'\n",
    "\n",
    "df_sim1 = pd.read_excel(sim_res, sheet_name=\"apps\")\n",
    "df_sim2 = pd.read_excel(sim_res2, sheet_name=\"apps\")\n",
    "# df_sim1 = pd.read_excel(sim_res, sheet_name=\"kernels\")\n",
    "# df_sim2 = pd.read_excel(sim_res2, sheet_name=\"kernels\")\n",
    "# print(df_sim1.columns)\n",
    "# print(df_sim2['l2_hit_rate_st_hw'])\n",
    "# print(df_sim2[df_sim2['l2_hit_rate_st_hw']<1.01].shape)\n",
    "print(df_sim1.shape, df_sim2.shape)"
   ]
  },
  {
   "cell_type": "markdown",
   "id": "158a6482-e68a-4f04-8911-ecaad8b7ec32",
   "metadata": {},
   "source": [
    "### 按照 yaml 重新选择应用"
   ]
  },
  {
   "cell_type": "code",
   "execution_count": 13,
   "id": "ff45005b-970e-4228-a71a-f5628851ca16",
   "metadata": {},
   "outputs": [],
   "source": [
    "# %env app_yaml=/staff/fyyuan/repo/PPT-GPU-memory/memory_model/memory-apps.yml\n",
    "# print(os.environ['app_yaml'])\n",
    "\n",
    "sys.path.insert(0, \"/staff/fyyuan/repo/PPT-GPU-memory/\")\n",
    "from scripts.common import parse_app_definition_yaml, get_suite_info, get_app_arg_list\n",
    "\n",
    "app_yaml = \"/staff/fyyuan/repo/PPT-GPU-memory/memory_model/memory-apps.yml\""
   ]
  },
  {
   "cell_type": "code",
   "execution_count": 26,
   "id": "c836451d-1106-4a40-a254-499027cb6cbc",
   "metadata": {},
   "outputs": [
    {
     "name": "stdout",
     "output_type": "stream",
     "text": [
      "(37, 39) (37, 39)\n"
     ]
    }
   ],
   "source": [
    "defined_apps = parse_app_definition_yaml(app_yaml)\n",
    "suite_info = get_suite_info(app_yaml)\n",
    "\n",
    "apps = []\n",
    "for suite in suite_info['suites']:\n",
    "    apps += defined_apps[suite]\n",
    "    \n",
    "app_and_arg_list = get_app_arg_list(apps)\n",
    "# print(app_and_arg_list[:3])\n",
    "\n",
    "def filter_app(df):\n",
    "    df = df[df['app'].isin(app_and_arg_list)]\n",
    "    # print(df.index)\n",
    "    return df\n",
    "df_sim1 = filter_app(df_sim1)\n",
    "df_sim2 = filter_app(df_sim2)\n",
    "print(df_sim1.shape, df_sim2.shape)"
   ]
  },
  {
   "cell_type": "markdown",
   "id": "eb13036d-1947-446b-9432-6ca424ec6d33",
   "metadata": {},
   "source": [
    "### 结果（过滤)\n",
    "\n",
    "过滤掉命中率大于 1 的应用"
   ]
  },
  {
   "cell_type": "code",
   "execution_count": 27,
   "id": "551312b5-8a89-4744-bfbf-48ec2630e196",
   "metadata": {},
   "outputs": [
    {
     "name": "stdout",
     "output_type": "stream",
     "text": [
      "l1_hit_rate_stg: (37,) -> (13,)\n",
      "l2_hit_rate_st: (37,) -> (24,)\n",
      "rodinia-3.1\n",
      "l1_hit_rate_stg: (14,) -> (6,)\n",
      "l2_hit_rate_st: (14,) -> (10,)\n",
      "polybench\n",
      "l1_hit_rate_stg: (9,) -> (2,)\n",
      "Tango\n",
      "l1_hit_rate_stg: (3,) -> (1,)\n",
      "l2_hit_rate_st: (3,) -> (1,)\n",
      "pannotia\n",
      "l1_hit_rate_stg: (11,) -> (4,)\n",
      "l2_hit_rate_st: (11,) -> (4,)\n",
      "l1_hit_rate_stg: (37,) -> (13,)\n",
      "l2_hit_rate_st: (37,) -> (24,)\n",
      "rodinia-3.1\n",
      "l1_hit_rate_stg: (14,) -> (6,)\n",
      "l2_hit_rate_st: (14,) -> (10,)\n",
      "polybench\n",
      "l1_hit_rate_stg: (9,) -> (2,)\n",
      "Tango\n",
      "l1_hit_rate_stg: (3,) -> (1,)\n",
      "l2_hit_rate_st: (3,) -> (1,)\n",
      "pannotia\n",
      "l1_hit_rate_stg: (11,) -> (4,)\n",
      "l2_hit_rate_st: (11,) -> (4,)\n"
     ]
    },
    {
     "name": "stderr",
     "output_type": "stream",
     "text": [
      "/tmp/ipykernel_171107/3280751285.py:27: RuntimeWarning: divide by zero encountered in scalar divide\n",
      "  NRMSE = np.sqrt(np.mean((y1 - y2)**2)) / np.mean(y1)\n",
      "/staff/fyyuan/miniconda3/lib/python3.8/site-packages/numpy/lib/function_base.py:2854: RuntimeWarning: invalid value encountered in divide\n",
      "  c /= stddev[:, None]\n",
      "/staff/fyyuan/miniconda3/lib/python3.8/site-packages/numpy/lib/function_base.py:2855: RuntimeWarning: invalid value encountered in divide\n",
      "  c /= stddev[None, :]\n",
      "/staff/fyyuan/miniconda3/lib/python3.8/site-packages/numpy/lib/function_base.py:2846: RuntimeWarning: Degrees of freedom <= 0 for slice\n",
      "  c = cov(x, y, rowvar, dtype=dtype)\n",
      "/staff/fyyuan/miniconda3/lib/python3.8/site-packages/numpy/lib/function_base.py:2705: RuntimeWarning: divide by zero encountered in divide\n",
      "  c *= np.true_divide(1, fact)\n",
      "/staff/fyyuan/miniconda3/lib/python3.8/site-packages/numpy/lib/function_base.py:2705: RuntimeWarning: invalid value encountered in multiply\n",
      "  c *= np.true_divide(1, fact)\n",
      "/staff/fyyuan/miniconda3/lib/python3.8/site-packages/numpy/lib/function_base.py:2854: RuntimeWarning: invalid value encountered in divide\n",
      "  c /= stddev[:, None]\n",
      "/staff/fyyuan/miniconda3/lib/python3.8/site-packages/numpy/lib/function_base.py:2855: RuntimeWarning: invalid value encountered in divide\n",
      "  c /= stddev[None, :]\n",
      "/tmp/ipykernel_171107/3280751285.py:27: RuntimeWarning: invalid value encountered in scalar divide\n",
      "  NRMSE = np.sqrt(np.mean((y1 - y2)**2)) / np.mean(y1)\n",
      "/staff/fyyuan/miniconda3/lib/python3.8/site-packages/numpy/lib/function_base.py:2846: RuntimeWarning: Degrees of freedom <= 0 for slice\n",
      "  c = cov(x, y, rowvar, dtype=dtype)\n",
      "/staff/fyyuan/miniconda3/lib/python3.8/site-packages/numpy/lib/function_base.py:2705: RuntimeWarning: divide by zero encountered in divide\n",
      "  c *= np.true_divide(1, fact)\n",
      "/staff/fyyuan/miniconda3/lib/python3.8/site-packages/numpy/lib/function_base.py:2705: RuntimeWarning: invalid value encountered in multiply\n",
      "  c *= np.true_divide(1, fact)\n"
     ]
    },
    {
     "data": {
      "text/html": [
       "<div>\n",
       "<style scoped>\n",
       "    .dataframe tbody tr th:only-of-type {\n",
       "        vertical-align: middle;\n",
       "    }\n",
       "\n",
       "    .dataframe tbody tr th {\n",
       "        vertical-align: top;\n",
       "    }\n",
       "\n",
       "    .dataframe thead tr th {\n",
       "        text-align: left;\n",
       "    }\n",
       "</style>\n",
       "<table border=\"1\" class=\"dataframe\">\n",
       "  <thead>\n",
       "    <tr>\n",
       "      <th></th>\n",
       "      <th colspan=\"2\" halign=\"left\">MAPE</th>\n",
       "      <th colspan=\"2\" halign=\"left\">Correlation</th>\n",
       "      <th colspan=\"2\" halign=\"left\">NRMSE</th>\n",
       "    </tr>\n",
       "    <tr>\n",
       "      <th></th>\n",
       "      <th>Old</th>\n",
       "      <th>New</th>\n",
       "      <th>Old</th>\n",
       "      <th>New</th>\n",
       "      <th>Old</th>\n",
       "      <th>New</th>\n",
       "    </tr>\n",
       "  </thead>\n",
       "  <tbody>\n",
       "    <tr>\n",
       "      <th>L1 Reqs</th>\n",
       "      <td>11.63%</td>\n",
       "      <td>6.44%</td>\n",
       "      <td>1.00</td>\n",
       "      <td>1.00</td>\n",
       "      <td>0.49</td>\n",
       "      <td>0.05</td>\n",
       "    </tr>\n",
       "    <tr>\n",
       "      <th>L1 Sectors</th>\n",
       "      <td>14.43%</td>\n",
       "      <td>9.02%</td>\n",
       "      <td>1.00</td>\n",
       "      <td>1.00</td>\n",
       "      <td>0.62</td>\n",
       "      <td>0.07</td>\n",
       "    </tr>\n",
       "    <tr>\n",
       "      <th>L1 Hit Rate</th>\n",
       "      <td>14.35%</td>\n",
       "      <td>11.07%</td>\n",
       "      <td>0.99</td>\n",
       "      <td>0.99</td>\n",
       "      <td>0.12</td>\n",
       "      <td>0.10</td>\n",
       "    </tr>\n",
       "    <tr>\n",
       "      <th>L1 Hit Rate Global</th>\n",
       "      <td>14.47%</td>\n",
       "      <td>11.18%</td>\n",
       "      <td>0.99</td>\n",
       "      <td>0.99</td>\n",
       "      <td>0.12</td>\n",
       "      <td>0.10</td>\n",
       "    </tr>\n",
       "    <tr>\n",
       "      <th>L1 Hit Rate Global Load</th>\n",
       "      <td>10.04%</td>\n",
       "      <td>7.35%</td>\n",
       "      <td>0.99</td>\n",
       "      <td>1.00</td>\n",
       "      <td>0.09</td>\n",
       "      <td>0.06</td>\n",
       "    </tr>\n",
       "    <tr>\n",
       "      <th>L1 Hit Rate Global Store</th>\n",
       "      <td>48.83%</td>\n",
       "      <td>41.73%</td>\n",
       "      <td>0.64</td>\n",
       "      <td>0.84</td>\n",
       "      <td>1.00</td>\n",
       "      <td>0.83</td>\n",
       "    </tr>\n",
       "    <tr>\n",
       "      <th>L2 Reads</th>\n",
       "      <td>23.75%</td>\n",
       "      <td>12.01%</td>\n",
       "      <td>0.95</td>\n",
       "      <td>0.95</td>\n",
       "      <td>0.72</td>\n",
       "      <td>1.33</td>\n",
       "    </tr>\n",
       "    <tr>\n",
       "      <th>L2 Writes</th>\n",
       "      <td>17.28%</td>\n",
       "      <td>11.63%</td>\n",
       "      <td>1.00</td>\n",
       "      <td>1.00</td>\n",
       "      <td>0.51</td>\n",
       "      <td>0.06</td>\n",
       "    </tr>\n",
       "    <tr>\n",
       "      <th>L2 Total Reqs</th>\n",
       "      <td>21.57%</td>\n",
       "      <td>9.05%</td>\n",
       "      <td>1.00</td>\n",
       "      <td>1.00</td>\n",
       "      <td>0.40</td>\n",
       "      <td>0.18</td>\n",
       "    </tr>\n",
       "    <tr>\n",
       "      <th>L2 Hit Rate</th>\n",
       "      <td>42.23%</td>\n",
       "      <td>15.47%</td>\n",
       "      <td>0.77</td>\n",
       "      <td>0.95</td>\n",
       "      <td>0.33</td>\n",
       "      <td>0.19</td>\n",
       "    </tr>\n",
       "    <tr>\n",
       "      <th>L2 Read Hit Rate</th>\n",
       "      <td>154.34%</td>\n",
       "      <td>37.97%</td>\n",
       "      <td>0.77</td>\n",
       "      <td>0.90</td>\n",
       "      <td>0.62</td>\n",
       "      <td>0.43</td>\n",
       "    </tr>\n",
       "    <tr>\n",
       "      <th>L2 Write Hit Rate</th>\n",
       "      <td>30.79%</td>\n",
       "      <td>0.03%</td>\n",
       "      <td>-0.02</td>\n",
       "      <td>nan</td>\n",
       "      <td>0.42</td>\n",
       "      <td>0.00</td>\n",
       "    </tr>\n",
       "    <tr>\n",
       "      <th>DRAM Reads</th>\n",
       "      <td>53.03%</td>\n",
       "      <td>14.09%</td>\n",
       "      <td>0.87</td>\n",
       "      <td>1.00</td>\n",
       "      <td>1.39</td>\n",
       "      <td>0.16</td>\n",
       "    </tr>\n",
       "    <tr>\n",
       "      <th>DRAM Writes</th>\n",
       "      <td>871.81%</td>\n",
       "      <td>1346.67%</td>\n",
       "      <td>0.50</td>\n",
       "      <td>0.99</td>\n",
       "      <td>2.16</td>\n",
       "      <td>0.36</td>\n",
       "    </tr>\n",
       "    <tr>\n",
       "      <th>DRAM Total Reqs</th>\n",
       "      <td>42.19%</td>\n",
       "      <td>17.83%</td>\n",
       "      <td>0.93</td>\n",
       "      <td>0.99</td>\n",
       "      <td>1.19</td>\n",
       "      <td>0.17</td>\n",
       "    </tr>\n",
       "  </tbody>\n",
       "</table>\n",
       "</div>"
      ],
      "text/plain": [
       "                             MAPE           Correlation       NRMSE      \n",
       "                              Old       New         Old   New   Old   New\n",
       "L1 Reqs                    11.63%     6.44%        1.00  1.00  0.49  0.05\n",
       "L1 Sectors                 14.43%     9.02%        1.00  1.00  0.62  0.07\n",
       "L1 Hit Rate                14.35%    11.07%        0.99  0.99  0.12  0.10\n",
       "L1 Hit Rate Global         14.47%    11.18%        0.99  0.99  0.12  0.10\n",
       "L1 Hit Rate Global Load    10.04%     7.35%        0.99  1.00  0.09  0.06\n",
       "L1 Hit Rate Global Store   48.83%    41.73%        0.64  0.84  1.00  0.83\n",
       "L2 Reads                   23.75%    12.01%        0.95  0.95  0.72  1.33\n",
       "L2 Writes                  17.28%    11.63%        1.00  1.00  0.51  0.06\n",
       "L2 Total Reqs              21.57%     9.05%        1.00  1.00  0.40  0.18\n",
       "L2 Hit Rate                42.23%    15.47%        0.77  0.95  0.33  0.19\n",
       "L2 Read Hit Rate          154.34%    37.97%        0.77  0.90  0.62  0.43\n",
       "L2 Write Hit Rate          30.79%     0.03%       -0.02   nan  0.42  0.00\n",
       "DRAM Reads                 53.03%    14.09%        0.87  1.00  1.39  0.16\n",
       "DRAM Writes               871.81%  1346.67%        0.50  0.99  2.16  0.36\n",
       "DRAM Total Reqs            42.19%    17.83%        0.93  0.99  1.19  0.17"
      ]
     },
     "execution_count": 27,
     "metadata": {},
     "output_type": "execute_result"
    }
   ],
   "source": [
    "df_summary1 = get_summary_by_bench(df_sim1, filter_error_hw=True)\n",
    "df_summary2 = get_summary_by_bench(df_sim2, filter_error_hw=True)\n",
    "# print(df_summary2)\n",
    "_, select_df = print_compare_table(df_summary1, df_summary2, NRMSE=True)\n",
    "select_df"
   ]
  },
  {
   "cell_type": "markdown",
   "id": "cb0f6716-3316-4376-b016-94040514e57f",
   "metadata": {},
   "source": [
    "### 结果"
   ]
  },
  {
   "cell_type": "code",
   "execution_count": null,
   "id": "74dca973-8e8a-424a-a806-469045abea64",
   "metadata": {},
   "outputs": [],
   "source": [
    "df_summary1 = get_summary_by_bench(df_sim1, filter_error_hw=True)\n",
    "df_summary2 = get_summary_by_bench(df_sim2, filter_error_hw=True)\n",
    "# print(df_summary2)\n",
    "_, select_df = print_compare_table(df_summary1, df_summary2, paper=True)\n",
    "select_df"
   ]
  },
  {
   "cell_type": "markdown",
   "id": "2a0964f6-02ec-484f-8208-2572b64a57a4",
   "metadata": {},
   "source": [
    "### 直接读取 summary 打印结果"
   ]
  },
  {
   "cell_type": "code",
   "execution_count": null,
   "id": "083d75c3-5da4-4df5-9dcc-42bf1b59c76e",
   "metadata": {
    "scrolled": true
   },
   "outputs": [],
   "source": [
    "df_summary1 = pd.read_excel(sim_res, sheet_name=\"apps_summary\", header=[0, 1], index_col=0)\n",
    "df_summary2 = pd.read_excel(sim_res2, sheet_name=\"apps_summary\", header=[0, 1], index_col=0)\n",
    "# df_summary1 = pd.read_excel(sim_res, sheet_name=\"kernels_summary\", header=[0, 1], index_col=0)\n",
    "# df_summary2 = pd.read_excel(sim_res2, sheet_name=\"kernels_summary\", header=[0, 1], index_col=0)\n",
    "# print(df_summary2)\n",
    "_, select_df = print_compare_table(df_summary1, df_summary2, NRMSE=True)"
   ]
  },
  {
   "cell_type": "code",
   "execution_count": null,
   "id": "1806f6f2-b42c-494f-bd7e-ea9956ef7bc6",
   "metadata": {},
   "outputs": [],
   "source": [
    "select_df"
   ]
  },
  {
   "cell_type": "markdown",
   "id": "e8700fbf-1498-4bd1-8ecd-95a4eccee59e",
   "metadata": {},
   "source": [
    "### 获取 app 信息"
   ]
  },
  {
   "cell_type": "code",
   "execution_count": null,
   "id": "da9db4af-fd34-4992-851b-6ca5f1ec7201",
   "metadata": {},
   "outputs": [],
   "source": [
    "# sys.path.insert(0, \"/staff/fyyuan/repo/PPT-GPU-memory/\")\n",
    "%load_ext autoreload\n",
    "%autoreload 2\n",
    "from scripts.common import parse_app_definition_yaml, get_suite_info, get_app_arg_list\n",
    "\n",
    "import inspect\n",
    "# print(inspect.getsource(get_suite_info))\n",
    "\n",
    "app_yaml = \"/staff/fyyuan/repo/PPT-GPU-memory/memory_model/memory-apps.yml\"\n",
    "# defined_apps = parse_app_definition_yaml(app_yaml)\n",
    "suite_info = get_suite_info(app_yaml)\n",
    "\n",
    "sim_res = 'memory_titanv_TITANV_ppt-gpu_base_CL32.xlsx'\n",
    "df_kernels = pd.read_excel(sim_res, sheet_name=\"kernels\")\n",
    "df_kernels = filter_app(df_kernels)\n",
    "df_apps = df_kernels.groupby('app', as_index=False, sort=False).size()\n",
    "df_apps.rename(columns={'size': 'Kernels'}, inplace=True)\n",
    "# df_apps"
   ]
  },
  {
   "cell_type": "code",
   "execution_count": null,
   "id": "30aba19e-d186-4c55-9735-c6ec0e47f33f",
   "metadata": {},
   "outputs": [],
   "source": [
    "import subprocess\n",
    "\n",
    "def get_dir_size(path, get_logic=True):\n",
    "    if get_logic:\n",
    "        cmd = f'du --apparent-size {path}'\n",
    "    else:\n",
    "        cmd = f\"du {path}\"\n",
    "    res = subprocess.run(cmd, shell=True, capture_output=True)\n",
    "    size = res.stdout.decode().split('\\t')[0]\n",
    "    # print(cmd)\n",
    "    # print(res.stdout.decode())\n",
    "    # exit(1)\n",
    "    return int(size)*1024\n",
    "    \n",
    "# print(df_sim1['app'])\n",
    "# 统计应用 Trace 大小，运行实例数目\n",
    "bench_info = {\n",
    "    'abbr': [],\n",
    "    'trace_size': [],\n",
    "}\n",
    "for app_arg in df_apps['app']:\n",
    "    abbr = suite_info['map'][app_arg][-1]\n",
    "    print(f\"{abbr}: {app_arg}\")\n",
    "    bench_info['abbr'].append(abbr)\n",
    "\n",
    "    trace_dir = '/staff/fyyuan/hw_trace01/ppt-gpu-titanv/11.0'\n",
    "    app_memory_trace_dir = os.path.join(trace_dir, app_arg, 'memory_traces')\n",
    "    # dir_size = 1\n",
    "    dir_size = get_dir_size(app_memory_trace_dir)\n",
    "    # print(dir_size)\n",
    "    bench_info['trace_size'].append(dir_size)\n",
    "df_bench_info = pd.concat([df_apps, pd.DataFrame(bench_info)], axis=1)\n",
    "df_bench_info"
   ]
  },
  {
   "cell_type": "code",
   "execution_count": null,
   "id": "3c422dbe-e1dd-411e-a478-6384cd6493b8",
   "metadata": {},
   "outputs": [],
   "source": [
    "g = df_bench_info.groupby('abbr', as_index=False, sort=False)\n",
    "\n",
    "df_bench_info2 = g.sum()\n",
    "df_bench_info2\n",
    "\n",
    "def bytes_to_human(x):\n",
    "    G, M, K = 2**30, 2**20, 2**10\n",
    "    if x >= G:\n",
    "        return f'{x/G:.0f}GB'\n",
    "    elif x >= M:\n",
    "        return f'{x/M:.0f}MB'\n",
    "    else:\n",
    "        return f'{x/K:.0f}KB'\n",
    "        \n",
    "print(f'total: {df_bench_info2[\"trace_size\"].sum()//2**30:.2f}GB')\n",
    "print(f'total Kernels: {df_bench_info2[\"Kernels\"].sum()}')\n",
    "df_bench_info2['Trace size'] = df_bench_info2['trace_size'].apply(bytes_to_human)\n",
    "df_bench_info2.drop(columns=['app'], inplace=True)\n",
    "df_bench_info3 = df_bench_info2\n",
    "df_bench_info3['Instance'] = g.size()['size']\n",
    "df_bench_info3.reindex(columns=['abbr','Instance', 'Kernels', 'Trace size'])"
   ]
  },
  {
   "cell_type": "code",
   "execution_count": null,
   "id": "114df3d0-0ec1-4c8d-82ad-190f0d43a049",
   "metadata": {},
   "outputs": [],
   "source": [
    "\n"
   ]
  },
  {
   "cell_type": "markdown",
   "id": "2bc5e1e8-fe8f-40a1-9b99-59c2def119f9",
   "metadata": {},
   "source": [
    "### 删除部分应用（obseleted）"
   ]
  },
  {
   "cell_type": "code",
   "execution_count": null,
   "id": "ba13981e-18ff-4b5d-a58e-34b61d9c9acd",
   "metadata": {},
   "outputs": [],
   "source": [
    "# del app\n",
    "def del_app(df):\n",
    "    indexes_to_drop = df[df['app'].isin(\n",
    "        ['bfs-rodinia-3.1/__data_graph65536_txt', 'bfs-rodinia-3.1/__data_graph1MW_6_txt', 'dwt2d-rodinia-3.1/__data_192_bmp__d_192x192__f__5__l_3',\n",
    "         'gaussian-rodinia-3.1/_f___data_matrix4_txt', 'gaussian-rodinia-3.1/_s_16', 'gaussian-rodinia-3.1/_s_64',\n",
    "         'lavaMD-rodinia-3.1/_boxes1d_10', 'polybench-atax/NO_ARGS', 'polybench-mvt/NO_ARGS', \n",
    "        ]\n",
    "    )].index\n",
    "    df.drop(indexes_to_drop, inplace=True)\n",
    "\n",
    "del_app(df_sim1)\n",
    "del_app(df_sim2)"
   ]
  },
  {
   "cell_type": "markdown",
   "id": "1d18b984-64cc-4aa5-ab71-a1fb9e38fd35",
   "metadata": {},
   "source": [
    "## 按 metric 对比"
   ]
  },
  {
   "cell_type": "code",
   "execution_count": null,
   "id": "59ff2d74-8f6d-466c-8bc2-c613170afd25",
   "metadata": {},
   "outputs": [],
   "source": [
    "def get_MAPE(df):\n",
    "    MAPE = (df[f'{metric}_sim'] - df[f'{metric}_hw']) / df[f'{metric}_hw']\n",
    "    MAPE.name = metric\n",
    "    MAPE.index = df['app']\n",
    "    return MAPE\n",
    "def get_corr(df):\n",
    "    y1, y2 = df[f'{metric}_sim'], df[f'{metric}_hw']\n",
    "    corr = np.corrcoef(y1, y2)[0, 1]\n",
    "    return corr"
   ]
  },
  {
   "cell_type": "code",
   "execution_count": null,
   "id": "35a4f5fe-9311-48f7-a542-3131ec08d4e6",
   "metadata": {},
   "outputs": [],
   "source": [
    "sim_res = 'memory_titanv_TITANV_ppt-gpu_base_CL32.xlsx'\n",
    "# sim_res = 'memory_titanv_TITANV_ppt-gpu_base_CL128.xlsx'\n",
    "sim_res2 = 'memory_titanv_TITANV_simulator_base.xlsx'\n",
    "metric = 'l2_ld_trans'\n",
    "\n",
    "df_sim1 = pd.read_excel(sim_res, sheet_name=\"apps\")\n",
    "df_sim2 = pd.read_excel(sim_res2, sheet_name=\"apps\")\n",
    "print(df_sim1.shape, df_sim2.shape)\n",
    "print(f'corr: {get_corr(df_sim1)}, {get_corr(df_sim2)}')"
   ]
  },
  {
   "cell_type": "code",
   "execution_count": null,
   "id": "a8345e7e-f641-4e72-8edd-71842fbd7742",
   "metadata": {},
   "outputs": [],
   "source": [
    "MAPE1=get_MAPE(df_sim1)\n",
    "MAPE2=get_MAPE(df_sim2)\n",
    "df = pd.concat([MAPE1, MAPE2], axis=1)\n",
    "print(df.mean())\n",
    "print(df.abs().mean())\n",
    "df"
   ]
  },
  {
   "cell_type": "markdown",
   "id": "a2f6a8ce-7b26-4a00-91e5-42279b48249f",
   "metadata": {},
   "source": [
    "## 画图"
   ]
  },
  {
   "cell_type": "code",
   "execution_count": 20,
   "id": "0e97ce50-5c31-4f04-855d-14fa0be8b0b9",
   "metadata": {},
   "outputs": [],
   "source": [
    "from scripts.common import get_suite_info"
   ]
  },
  {
   "cell_type": "code",
   "execution_count": 33,
   "id": "efdc512e-188e-49c1-aae1-396adabb808e",
   "metadata": {},
   "outputs": [],
   "source": [
    "def get_metric_df(df_sim1, df_sim2, metric):\n",
    "    '''df_sim1: PPT-GPU\n",
    "    df_sim2: Ours\n",
    "    '''\n",
    "    df1 = df_sim1[['app', f\"{metric}_sim\"]]\n",
    "    df2 = df_sim2[[f\"{metric}_sim\", f\"{metric}_hw\"]]\n",
    "    df_new = pd.concat([df1, df2], axis=1)\n",
    "    \n",
    "    # rename columns\n",
    "    df_new.columns = ['APP', 'PPT-GPU', 'Ours', 'HW']\n",
    "\n",
    "    app_rename_map = {}\n",
    "    for app in df_new['APP']:\n",
    "        abbr = suite_info['map'][app][-1]\n",
    "        app_rename_map[app] = abbr\n",
    "    df_new['APP'] = df_new['APP'].map(app_rename_map)\n",
    "    df_new = df_new.set_index('APP')\n",
    "    return df_new\n",
    "\n",
    "def draw_bar(df_sim1, df_sim2, draw_list):\n",
    "    for metric in draw_list:\n",
    "        print(f\"Drawing {metric}...\")\n",
    "        df_metric = get_metric_df(df_sim1, df_sim2, metric)\n",
    "\n",
    "        # df_metric.plot.bar()\n",
    "        # save to excel\n",
    "        with pd.ExcelWriter(os.path.join(output_dir, f\"{metric}.xlsx\"), engine='xlsxwriter') as writer:\n",
    "            df_new.to_excel(writer, sheet_name=metric, index=False)"
   ]
  },
  {
   "cell_type": "markdown",
   "id": "4fe6acca-651d-4c06-9026-44cdcf29c4f5",
   "metadata": {},
   "source": [
    "### 读取文件过滤"
   ]
  },
  {
   "cell_type": "code",
   "execution_count": 58,
   "id": "d0ec447a-1dbd-4b90-9560-e16029cfb15c",
   "metadata": {},
   "outputs": [
    {
     "name": "stdout",
     "output_type": "stream",
     "text": [
      "(1736, 39) (1736, 39)\n"
     ]
    }
   ],
   "source": [
    "sim_res = 'memory_titanv_TITANV_ppt-gpu_base_CL32.xlsx'\n",
    "sim_res2 = 'memory_titanv_TITANV_simulator_base.xlsx'\n",
    "# sim_res = 'memory_titanv_A100-40G_ppt-gpu_base_CL32.xlsx'\n",
    "# sim_res2 = 'memory_titanv_A100-40G_simulator_base.xlsx'\n",
    "\n",
    "# sim_res = 'memory_titanv_TITANV_simulator_base.xlsx'\n",
    "# sim_res2 = 'memory_titanv_TITANV_simulator_nofilterl2.xlsx'\n",
    "\n",
    "\n",
    "# df_sim1 = pd.read_excel(sim_res, sheet_name=\"apps\")\n",
    "# df_sim2 = pd.read_excel(sim_res2, sheet_name=\"apps\")\n",
    "df_sim1 = pd.read_excel(sim_res, sheet_name=\"kernels\")\n",
    "df_sim2 = pd.read_excel(sim_res2, sheet_name=\"kernels\")\n",
    "\n",
    "df_sim1 = filter_app(df_sim1)\n",
    "df_sim2 = filter_app(df_sim2)\n",
    "print(df_sim1.shape, df_sim2.shape)"
   ]
  },
  {
   "cell_type": "markdown",
   "id": "6979769c-c2ec-4aae-ab76-8ddeb19301e9",
   "metadata": {},
   "source": [
    "### 条形图对比"
   ]
  },
  {
   "cell_type": "code",
   "execution_count": 22,
   "id": "e1d23b13-9498-429b-8a12-047813ebcb9e",
   "metadata": {},
   "outputs": [],
   "source": [
    "# df1 = get_metric_df(df_sim1, df_sim2, 'dram_ld_trans')\n",
    "df1 = get_metric_df(df_sim1, df_sim2, 'l2_hit_rate_ld')\n",
    "df2 = get_metric_df(df_sim1, df_sim2, 'l2_hit_rate')\n",
    "# df2 = get_metric_df(df_sim1, df_sim2, 'dram_st_trans')\n",
    "# df3 = get_metric_df(df_sim1, df_sim2, 'dram_tot_trans')"
   ]
  },
  {
   "cell_type": "code",
   "execution_count": 23,
   "id": "54304a38-ff95-4bb5-9fa4-6a4f524621ae",
   "metadata": {},
   "outputs": [
    {
     "data": {
      "text/plain": [
       "<Axes: xlabel='APP'>"
      ]
     },
     "execution_count": 23,
     "metadata": {},
     "output_type": "execute_result"
    },
    {
     "data": {
      "image/png": "[encoded data removed]",
      "text/plain": [
       "<Figure size 640x480 with 1 Axes>"
      ]
     },
     "metadata": {},
     "output_type": "display_data"
    }
   ],
   "source": [
    "df1.plot.bar()"
   ]
  },
  {
   "cell_type": "code",
   "execution_count": null,
   "id": "cf203d1f-a1e6-4937-8b4d-f43f8da5a162",
   "metadata": {},
   "outputs": [],
   "source": [
    "# pd.DataFrame({'ld': df1, 'st': df2, 'tot': df3})"
   ]
  },
  {
   "cell_type": "code",
   "execution_count": null,
   "id": "3c97a958-0025-408a-8c2c-f083784f6d10",
   "metadata": {},
   "outputs": [],
   "source": [
    "def get_MAPE(df):\n",
    "    df2 = (df['PPT-GPU'] - df['HW'])/df['HW']\n",
    "    df3 = (df['Ours'] - df['HW'])/df['HW']\n",
    "    df4 = pd.concat([df2, df3], axis=1)\n",
    "    return df4\n",
    "def get_big(df):\n",
    "    df2 = (df['PPT-GPU'] > df['HW'])\n",
    "    df3 = (df['Ours'] > df['HW'])\n",
    "    df4 = pd.concat([df2, df3], axis=1)\n",
    "    return df4"
   ]
  },
  {
   "cell_type": "code",
   "execution_count": null,
   "id": "5a22c1d2-938c-441c-946d-49cf952517ce",
   "metadata": {},
   "outputs": [],
   "source": [
    "BIG = get_big(df2).sum()\n",
    "BIG"
   ]
  },
  {
   "cell_type": "code",
   "execution_count": null,
   "id": "c652d213-2b23-46da-af8e-7de8f7e091b5",
   "metadata": {},
   "outputs": [],
   "source": [
    "MAPE = get_MAPE(df2)\n",
    "print(MAPE.mean())\n",
    "print(MAPE.abs().mean())\n",
    "MAPE"
   ]
  },
  {
   "cell_type": "code",
   "execution_count": null,
   "id": "797f7765-31e2-4ff7-a2a6-82b2837706b0",
   "metadata": {},
   "outputs": [],
   "source": [
    "df4.plot.bar()"
   ]
  },
  {
   "cell_type": "code",
   "execution_count": null,
   "id": "8edc9b60-43f2-4bab-ae3b-aa692baeb55f",
   "metadata": {},
   "outputs": [],
   "source": [
    "df.plot.bar()"
   ]
  },
  {
   "cell_type": "markdown",
   "id": "10217173-361a-4ca0-a4d8-887d4c4146d6",
   "metadata": {},
   "source": [
    "### Corrleation"
   ]
  },
  {
   "cell_type": "code",
   "execution_count": 51,
   "id": "95b444a8-0af9-416e-b9a7-31c9a26d90d0",
   "metadata": {},
   "outputs": [],
   "source": [
    "import json\n",
    "\n",
    "from matplotlib import pyplot as plt\n",
    "import pandas as pd\n",
    "\n",
    "dot_size = 50\n",
    "is_black = False\n",
    "def plot_sub(fig, ax, df, stat, log=False, log_x_min=-1, legend=True):\n",
    "    y1, y2, y3 = df['PPT-GPU'], df['Ours'], df['HW']\n",
    "    \n",
    "    # 绘制散点图\n",
    "    def get(y1, y2):\n",
    "        non_zero_idxs = y1 != 0\n",
    "        MAPE = np.mean(np.abs(y1[non_zero_idxs] - y2[non_zero_idxs])/y1[non_zero_idxs])\n",
    "        # MAPE = ((y2 - y1)/y1).abs().mean()\n",
    "        corr = np.corrcoef(y1, y2)[0, 1]\n",
    "        if MAPE > 1:\n",
    "            return f'Corr: {corr:.2} Err: {MAPE:.1f}'\n",
    "        else:\n",
    "            return f'Corr: {corr:.2} Err: {MAPE:.2f}'\n",
    "    \n",
    "    \n",
    "    if is_black:\n",
    "        # 使用不同的标记形状和填充\n",
    "        ax.scatter(y3, y2, color='black', s=dot_size, marker='o', label=f'Our [{get(y3, y2)}]', edgecolors='0.3', linewidths=1, facecolors='0.8')  # 空心圆\n",
    "        ax.scatter(y3, y1, color='black', s=dot_size, marker='^', label=f'PPT. [{get(y3, y1)}]', edgecolors='0.7', linewidths=1, facecolors='0.2')  # 斜线填充三角形\n",
    "    else:\n",
    "        ax.scatter(y3, y2, color=(1, 0.2, 0.2, 0.5), s=dot_size, marker='o', label=f'Our [{get(y3, y2)}]')  # 蓝色，透明\n",
    "        ax.scatter(y3, y1, color=(0.2, 0.6, 1, 0.5), s=dot_size, marker='^', label=f'PPT. [{get(y3, y1)}]')  # 红色，透明\n",
    "    \n",
    "    if legend:\n",
    "        if is_black:\n",
    "            legend = ax.legend(frameon=True, edgecolor='black') #添加图例边框\n",
    "            frame = legend.get_frame()\n",
    "            frame.set_linewidth(1)\n",
    "        else:\n",
    "            ax.legend()\n",
    "\n",
    "    # 计算范围\n",
    "    min_val = min(min(y1.min(), y2.min()), y3.min())\n",
    "    max_val = max(y1.max(), y2.max(), y3.max())\n",
    "    # min_val -= 0.1 * (max_val - min_val)\n",
    "    max_val *= 1.1\n",
    "\n",
    "    # 绘制参考线\n",
    "    ax.plot([min_val, max_val], [min_val, max_val],\n",
    "            color='black', linestyle='--', linewidth=1, alpha=0.7)\n",
    "\n",
    "    # 设置对数坐标轴\n",
    "    if log:\n",
    "        ax.set_xscale('log')\n",
    "        ax.set_yscale('log')\n",
    "\n",
    "        print(min_val, max_val)\n",
    "        if log_x_min!=-1:\n",
    "            ax.set_xlim(log_x_min, max_val)\n",
    "            ax.set_ylim(log_x_min, max_val)\n",
    "        else:\n",
    "            ax.set_xlim(max(min_val, 1), max_val)\n",
    "            ax.set_ylim(max(min_val, 1), max_val)\n",
    "        \n",
    "        # # 计算对数范围\n",
    "        # log_min = np.log10(min_val)\n",
    "        # log_max = np.log10(max_val)\n",
    "        \n",
    "        # # 设置一致的对数坐标范围\n",
    "        # ax.set_xlim(10**log_min, 10**log_max)\n",
    "        # ax.set_ylim(10**log_min, 10**log_max)\n",
    "    else:\n",
    "        ax.set_xlim(min_val, max_val)\n",
    "        ax.set_ylim(min_val, max_val)\n",
    "\n",
    "    # 美化边框\n",
    "    # ax.spines['top'].set_visible(False)   # 隐藏顶部边框\n",
    "    # ax.spines['right'].set_visible(False) # 隐藏右侧边框\n",
    "    # ax.spines['left'].set_linewidth(1.5)  # 设置左侧边框线宽\n",
    "    # ax.spines['bottom'].set_linewidth(1.5) # 设置底部边框线宽\n",
    "\n",
    "    # 设置刻度样式\n",
    "    # ax.tick_params(axis='both', which='major', direction='in', length=6, width=1.5, labelsize=12)\n",
    "    # ax.tick_params(axis='both', which='minor', direction='in', length=3, width=1)\n",
    "\n",
    "    # 设置坐标轴标签字体为 Times New Roman\n",
    "    font = {\n",
    "            # 'fontname': 'Times New Roman',\n",
    "            # 'fontsize': 12\n",
    "        }\n",
    "    ax.set_xlabel(f\"Hardware {stat}\", **font)\n",
    "    ax.set_ylabel(f\"Simulate {stat}\", **font)\n",
    "\n",
    "    # 设置相等比例\n",
    "    ax.set_aspect('equal', adjustable='box')\n",
    "\n",
    "def draw_correl2(df1, df2, save_img, stat, log=False, log_x_min=-1, save_pdf='output.pdf', updown=False, figsize=(9, 4)):\n",
    "    if updown:\n",
    "        fig, axes = plt.subplots(2, 1, figsize=(8, 8))  # 设置画布大小\n",
    "    else:\n",
    "        fig, axes = plt.subplots(1, 2, figsize=figsize)  # 设置画布大小\n",
    "    plot_sub(fig, axes[0], df1, stat[0])\n",
    "    plot_sub(fig, axes[1], df2, stat[1])\n",
    "\n",
    "    plt.tight_layout()\n",
    "    # 保存图片\n",
    "    fig.savefig(save_img, dpi=300, bbox_inches='tight')  # 高分辨率保存\n",
    "    fig.savefig(save_pdf, format='pdf', bbox_inches='tight')\n",
    "    plt.show()\n",
    "    plt.close(fig)\n",
    "\n",
    "def draw_correl3(df1, df2, df3, save_img, stat, log=False, log_x_min=-1, save_pdf='output.pdf', updown=False, figsize=(9, 4)):\n",
    "    fig, axes = plt.subplots(1, 3, figsize=figsize)  # 设置画布大小\n",
    "    plot_sub(fig, axes[0], df1, stat[0])\n",
    "    plot_sub(fig, axes[1], df2, stat[1], legend=True)\n",
    "    plot_sub(fig, axes[2], df3, stat[2], legend=True)\n",
    "\n",
    "    plt.tight_layout()\n",
    "    # 保存图片\n",
    "    fig.savefig(save_img, dpi=300, bbox_inches='tight')  # 高分辨率保存\n",
    "    fig.savefig(save_pdf, format='pdf', bbox_inches='tight')\n",
    "    plt.show()\n",
    "    plt.close(fig)\n",
    "    \n",
    "def draw_correl(df, save_img, stat, log=False, log_x_min=-1, save_pdf='output.pdf'):\n",
    "    fig, ax = plt.subplots(figsize=(4, 4))\n",
    "    \n",
    "    plot_sub(fig, ax, df, stat, log, log_x_min)\n",
    "    # 保存图片\n",
    "    fig.savefig(save_img, dpi=300, bbox_inches='tight')  # 高分辨率保存\n",
    "    fig.savefig(save_pdf, format='pdf', bbox_inches='tight')\n",
    "    plt.show()\n",
    "    plt.close(fig)\n"
   ]
  },
  {
   "cell_type": "code",
   "execution_count": 34,
   "id": "ada006ec-26a8-4d81-98af-6bef522f587d",
   "metadata": {},
   "outputs": [],
   "source": [
    "dot_size = 20\n",
    "df1 = get_metric_df(df_sim1, df_sim2, 'dram_st_trans')\n",
    "df2 = get_metric_df(df_sim1, df_sim2, 'dram_tot_trans')\n",
    "df3 = get_metric_df(df_sim1, df_sim2, 'dram_ld_trans')"
   ]
  },
  {
   "cell_type": "code",
   "execution_count": 52,
   "id": "ba6284b7-6599-4f37-8d5f-261efe030ce1",
   "metadata": {},
   "outputs": [
    {
     "data": {
      "image/png": "[encoded data removed]",
      "text/plain": [
       "<Figure size 1200x800 with 3 Axes>"
      ]
     },
     "metadata": {},
     "output_type": "display_data"
    }
   ],
   "source": [
    "dot_size = 70\n",
    "is_black = True\n",
    "# draw_correl2(df1, df2, 'tmp_draw/corrl_dram.png', ['DRAM Writes', 'DRAM Total Req'], log=False, save_pdf='DRAM.pdf')\n",
    "draw_correl3(df3, df1, df2, 'tmp_draw/corrl_dram.png', ['DRAM Reads', 'DRAM Writes', 'DRAM Total'], log=False, save_pdf='corr_dram_3.pdf', figsize=(12, 8))\n",
    "# draw_correl2(df3, df2, 'tmp_draw/corrl_dram_2.png', ['DRAM Reads', 'DRAM Total'], log=False, save_pdf='corrl_dram_2.pdf', figsize=(8, 8))"
   ]
  },
  {
   "cell_type": "markdown",
   "id": "92770351-0d44-44c1-81d1-8ef4b2760ce9",
   "metadata": {},
   "source": [
    "### DRAM LOAD"
   ]
  },
  {
   "cell_type": "code",
   "execution_count": 59,
   "id": "a66207ef-f252-43bd-9b3f-3a564bcf6d22",
   "metadata": {},
   "outputs": [],
   "source": [
    "metric = 'dram_ld_trans'\n",
    "\n",
    "hw = df_sim2[f'{metric}_hw']\n",
    "cal_res = df_sim2['l2_ld_trans_hw'] * (1 - df_sim2['l2_hit_rate_ld_hw'])\n",
    "\n",
    "df = (cal_res - hw) /hw"
   ]
  },
  {
   "cell_type": "code",
   "execution_count": 60,
   "id": "95d811c9-e425-4b8a-8956-5b2d0c9bc667",
   "metadata": {},
   "outputs": [
    {
     "name": "stdout",
     "output_type": "stream",
     "text": [
      "-0.27493219228378796 0.3335804289321073\n"
     ]
    }
   ],
   "source": [
    "mape1 = df.mean()\n",
    "mape2 = df.abs().mean()\n",
    "print(mape1, mape2)\n",
    "# print(df<0)\n"
   ]
  },
  {
   "cell_type": "code",
   "execution_count": 64,
   "id": "b33ebfab-addf-43e0-a2b3-d169e606468a",
   "metadata": {},
   "outputs": [
    {
     "data": {
      "image/png": "[encoded data removed]",
      "text/plain": [
       "<Figure size 450x800 with 1 Axes>"
      ]
     },
     "metadata": {},
     "output_type": "display_data"
    },
    {
     "name": "stdout",
     "output_type": "stream",
     "text": [
      "-0.27493219228378796 0.3335804289321073 0.8544808542026651\n"
     ]
    }
   ],
   "source": [
    "fig, ax = plt.subplots(figsize=(4.5, 8))\n",
    "y1, y2 = hw, cal_res\n",
    "MPE = ((y2 - y1)/y1).mean()\n",
    "MAPE = ((y2 - y1)/y1).abs().mean()\n",
    "corr = np.corrcoef(y1, y2)[0, 1]\n",
    "label = f'Corr: {corr:.2} Err: {MAPE:.2} '\n",
    "\n",
    "# ax.scatter(y1, y2, color=(1, 0.2, 0.2, 0.5), s=2, marker='o', label=label)  # 蓝色，透明\n",
    "ax.scatter(y1, y2, color='gray', s=2, marker='o', label=label)  # 蓝色，透明\n",
    "\n",
    "min_val = min(y1.min(), y2.min())\n",
    "max_val = max(y1.max(), y2.max())\n",
    "max_val *= 1.1\n",
    "# 绘制参考线\n",
    "ax.plot([min_val, max_val], [min_val, max_val],\n",
    "        color='black', linestyle='--', linewidth=1, alpha=0.7)\n",
    "# ax.set_xlim(min_val, max_val)\n",
    "# ax.set_ylim(min_val, max_val)\n",
    "ax.set_xlim(max(min_val, 1), max_val)\n",
    "ax.set_ylim(max(min_val, 1), max_val)\n",
    "ax.set_xscale('log')\n",
    "ax.set_yscale('log')\n",
    "ax.set_xlabel(f\"Hardware DRAM Reads\")\n",
    "ax.set_ylabel(f\"Caculated DRAM Reads\")\n",
    "ax.legend()\n",
    "# ax.set_title(f'MAPE: {MAPE:.2} Corr: {corr:.2}')\n",
    "\n",
    "# 设置相等比例\n",
    "ax.set_aspect('equal', adjustable='box')\n",
    "plt.show()\n",
    "\n",
    "# 保存图片\n",
    "# fig.savefig(save_img, dpi=300, bbox_inches='tight')  # 高分辨率保存\n",
    "fig.savefig('caculated_dram_ld_corr_gray.pdf', format='pdf', bbox_inches='tight')\n",
    "print(MPE, MAPE, corr)"
   ]
  },
  {
   "cell_type": "markdown",
   "id": "c1226e4c-1b83-4431-ad36-e46eb6d07fbf",
   "metadata": {},
   "source": [
    "### L2 CSDD"
   ]
  },
  {
   "cell_type": "code",
   "execution_count": null,
   "id": "97c99cf6-dcc0-4b84-82cb-d1c0757bd920",
   "metadata": {},
   "outputs": [],
   "source": [
    "def draw_csdd(csdd1, csdd2, img_path):\n",
    "    import matplotlib.pyplot as plt\n",
    "    \n",
    "    x1 = [sd for sd, _ in csdd1]\n",
    "    y1 = [accum for _, accum in csdd1]\n",
    "    x2 = [sd for sd, _ in csdd2]\n",
    "    y2 = [accum for _, accum in csdd2]\n",
    "    \n",
    "    fig, ax = plt.subplots()\n",
    "\n",
    "    ax.plot(x1, y1, label='No Filter')\n",
    "    ax.plot(x2, y2, label='Filter')\n",
    "    ax.legend()\n",
    "\n",
    "    ax.set_ylim(0, 1)\n",
    "    \n",
    "    # add some text for labels, title and axes ticks\n",
    "    ax.set_xlabel(\"Stack Distance\")\n",
    "    ax.set_ylabel(\"CSDD\")\n",
    "    fig.savefig(img_path)\n",
    "    plt.show()\n",
    "    plt.close(fig)\n",
    "\n",
    "def draw_csdd_list1(csdd_list, labels, img_path, save_pdf='output.pdf'):\n",
    "    import matplotlib.pyplot as plt\n",
    "    fig, ax = plt.subplots()\n",
    "\n",
    "    for i,csdd in enumerate(csdd_list):\n",
    "        x1 = [sd for sd, _ in csdd]\n",
    "        y1 = [accum for _, accum in csdd]\n",
    "        ax.plot(x1[:-1], y1[:-1], label=labels[i])\n",
    "    \n",
    "    ax.legend()\n",
    "    ax.set_ylim(0, 1)\n",
    "    \n",
    "    # add some text for labels, title and axes ticks\n",
    "    ax.set_xlabel(\"Stack Distance\")\n",
    "    ax.set_ylabel(\"CSDD\")\n",
    "    fig.savefig(img_path)\n",
    "    fig.savefig(save_pdf, format='pdf', bbox_inches='tight')\n",
    "    plt.show()\n",
    "    plt.close(fig)\n",
    "\n",
    "def draw_csdd_list(csdd_list, labels, img_path, save_pdf='output.pdf', figsize=(8, 6)):\n",
    "    import matplotlib.pyplot as plt\n",
    "    import seaborn as sns\n",
    "\n",
    "    # 设置风格和背景\n",
    "    sns.set_theme(style=\"whitegrid\")\n",
    "\n",
    "    fig, ax = plt.subplots(figsize=figsize)\n",
    "\n",
    "    # 定义不同的线条样式和标记点样式\n",
    "    # line_styles = ['-', '--', '-.', ':']  # 实线、虚线、点划线、点线\n",
    "    # colors = ['blue', 'green', 'red', 'cyan', 'magenta', 'yellow']\n",
    "    # plt.rcParams['axes.prop_cycle'] = plt.cycler(color=['#ADD8E6', '#90EE90', '#FFB6C1', '#FFA07A'])\n",
    "    colors = plt.rcParams['axes.prop_cycle'].by_key()['color']\n",
    "    colors = [\n",
    "        '#4f80bc',  # 蓝\n",
    "        '#9aba59',  # 绿\n",
    "        '#bf504d',  # 红\n",
    "        \n",
    "        # # '#1f77b4',  # 蓝色\n",
    "        # '#98cbff',  # 蓝色\n",
    "        # # '#ff7f0e',  # 橙色\n",
    "        # '#2ca02c',  # 绿色\n",
    "        # # '#d62728',  # 红色\n",
    "        # '#ff9898',  # 红色（淡）\n",
    "        \n",
    "        '#9467bd',  # 紫色\n",
    "        '#8c564b',  # 棕色\n",
    "        '#e377c2',  # 粉色\n",
    "        '#7f7f7f',  # 灰色\n",
    "        '#bcbd22',  # 黄绿色\n",
    "        '#17becf',  # 蓝绿色\n",
    "    ]\n",
    "    line_styles = ['-', '--']  # 实线、虚线、点划线、点线\n",
    "    markers = ['o', 's', 'D', '^']  # 圆点、方块、菱形、三角形\n",
    "    pair_list = list(zip(line_styles, markers))\n",
    "\n",
    "    for i, csdd in enumerate(csdd_list):\n",
    "        x1 = [sd for sd, _ in csdd]\n",
    "        y1 = [accum for _, accum in csdd]\n",
    "        ax.plot(\n",
    "            x1[:-1], \n",
    "            y1[:-1], \n",
    "            linestyle=line_styles[i % len(line_styles)],  # 轮换线条样式\n",
    "            marker=markers[(i//2) % len(markers)],  # 轮换标记样式\n",
    "            color=colors[(i//2)%len(colors)],\n",
    "            label=labels[i], \n",
    "            linewidth=1.5, \n",
    "            markevery=int(len(x1)/20),\n",
    "            markersize=6  # 标记点大小\n",
    "        )\n",
    "    \n",
    "    # 设置图例\n",
    "    ax.legend(\n",
    "        loc=\"lower right\",\n",
    "        frameon=True,\n",
    "        fontsize=12,\n",
    "        shadow=True\n",
    "    )\n",
    "\n",
    "    # 设置轴范围\n",
    "    ax.set_ylim(0, 1)\n",
    "    ax.set_xlim(0)\n",
    "\n",
    "    # 设置轴标签和标题\n",
    "    ax.set_xlabel(\"Stack Distance\", fontsize=14, labelpad=10)\n",
    "    ax.set_ylabel(\"CSDD\", fontsize=14, labelpad=10)\n",
    "    # ax.set_title(\"CSDD vs Stack Distance\", fontsize=16, pad=15)\n",
    "\n",
    "    # 美化刻度\n",
    "    ax.tick_params(axis='both', which='major', labelsize=12)\n",
    "    ax.grid(True, linestyle=\"--\", alpha=0.6)\n",
    "\n",
    "    # 保存图表\n",
    "    fig.tight_layout()\n",
    "    fig.savefig(img_path, dpi=300, bbox_inches='tight')\n",
    "    fig.savefig(save_pdf, format='pdf', bbox_inches='tight')\n",
    "    plt.show()\n",
    "    plt.close(fig)\n"
   ]
  },
  {
   "cell_type": "code",
   "execution_count": null,
   "id": "faf74475-3ca8-43ec-b9f2-fa1d5efc0cb7",
   "metadata": {},
   "outputs": [],
   "source": [
    "from src.sdcm import get_stack_distance, get_sdd_dict, get_csdd, draw_SD, draw_sdd, draw_csdd\n",
    "\n",
    "def get_(l1_dump_trace):\n",
    "    with open(l1_dump_trace) as f:\n",
    "        smi_trace_ = json.load(f)\n",
    "    smi_trace = smi_trace_\n",
    "    from src.sdcm import get_stack_distance, get_sdd_dict, get_csdd, draw_SD, draw_sdd, draw_csdd\n",
    "    SD = get_stack_distance(smi_trace)\n",
    "    # sdd_dict = get_sdd_dict(SD, smi_trace)\n",
    "    # print(sdd_dict)\n",
    "    sdd, csdd = get_csdd(SD)\n",
    "    label = l1_dump_trace.replace('.json', '')\n",
    "    outptu_dir = 'paper_draw'\n",
    "    debug_save = {'SD': SD, 'sdd': sdd, 'csdd': csdd}\n",
    "    with open(f\"{label}_debug.json\", 'w') as f:\n",
    "        json.dump(debug_save, f)\n",
    "    return debug_save"
   ]
  },
  {
   "cell_type": "code",
   "execution_count": null,
   "id": "8dda297c-b716-4b4c-b79b-a1a219d20d1a",
   "metadata": {},
   "outputs": [],
   "source": [
    "# apps = ['cfd', 'convolution2D']\n",
    "apps = ['hotspot', 'heartwall','jacobi2D', 'convolution2D']\n",
    "# apps = ['jacobi2D']\n",
    "csdd_list = []\n",
    "labels = []\n",
    "for app in apps:\n",
    "    debug1_json = f'l2_dump_trace_{app}_debug.json'\n",
    "    debug2_json = f'l2_dump_trace_{app}_L1_Filter_debug.json'\n",
    "    try:\n",
    "        with open(debug1_json) as f:\n",
    "            debug1_save = json.load(f)\n",
    "    except:\n",
    "        l2_dump_trace = f'l2_dump_trace_{app}.json'\n",
    "        debug1_save = get_(l2_dump_trace)\n",
    "    try:\n",
    "        with open(debug2_json) as f:\n",
    "            debug2_save = json.load(f)\n",
    "    except:\n",
    "        l2_dump_trace = f'l2_dump_trace_{app}_L1_Filter.json'\n",
    "        debug2_save = get_(l2_dump_trace)\n",
    "    csdd_list += [debug1_save['csdd'], debug2_save['csdd']]\n",
    "    labels += [f'{app}', f'{app} Filter']\n",
    "\n",
    "draw_csdd_list(csdd_list, labels, 'test.png', save_pdf='csdd.pdf')\n"
   ]
  },
  {
   "cell_type": "markdown",
   "id": "d2be31f7-55de-4482-bec1-9baa5ed6794f",
   "metadata": {},
   "source": [
    "## 其它"
   ]
  },
  {
   "cell_type": "markdown",
   "id": "02a64ad4-72c6-457a-8826-4617477a20c9",
   "metadata": {},
   "source": [
    "### L1 Cache size"
   ]
  },
  {
   "cell_type": "code",
   "execution_count": null,
   "id": "4bfbde69-feb0-4e94-a242-df433fbc74d7",
   "metadata": {},
   "outputs": [],
   "source": [
    "def json2df(json_data):\n",
    "    '''\n",
    "    list of dict 形式\n",
    "    '''\n",
    "    data = []\n",
    "    for app_arg, app_res in json_data.items():\n",
    "        # bench = suite_info['map'][app_arg][0]\n",
    "        # print(app_arg, app_res)\n",
    "        if app_arg == '0':\n",
    "            continue\n",
    "        for i, kernel_res in enumerate(app_res):\n",
    "            # kernel_res['bench'] = bench\n",
    "            kernel_res['app'] = app_arg\n",
    "            kernel_res['kernel_id'] = kernel_res['kernel_name']\n",
    "            data.append(kernel_res)\n",
    "    return pd.DataFrame(data, columns=[\"app\", \"kernel_id\"] + ['l1_cache_size'])\n"
   ]
  },
  {
   "cell_type": "code",
   "execution_count": null,
   "id": "f7057e5a-6299-447e-a352-98e4a6ec43ea",
   "metadata": {},
   "outputs": [],
   "source": [
    "json_path = 'tmp/res_memory_titanv_11.0_TITANV_paper6_simulator_base.json'\n",
    "\n",
    "with open(json_path) as f:\n",
    "    sim_res = json.load(f)\n",
    "\n",
    "df_sim1  = json2df(sim_res)\n",
    "# df_sim1 = df_sim1.groupby([\"app\"], sort=False, as_index=False).mean(numeric_only=True)"
   ]
  },
  {
   "cell_type": "code",
   "execution_count": null,
   "id": "7a7f2c5a-0579-4150-9bae-6ae67e32923f",
   "metadata": {},
   "outputs": [],
   "source": [
    "def rename_app(df):\n",
    "    app_rename_map = {}\n",
    "    for app in df['app']:\n",
    "        abbr = suite_info['map'][app][-1]\n",
    "        app_rename_map[app] = abbr\n",
    "    df['app'] = df['app'].map(app_rename_map)\n",
    "    return df"
   ]
  },
  {
   "cell_type": "code",
   "execution_count": null,
   "id": "387395b1-6cbe-4887-a683-466d94c5b88b",
   "metadata": {},
   "outputs": [],
   "source": [
    "df_sim1 = filter_app(df_sim1)\n",
    "print(df_sim1.shape)"
   ]
  },
  {
   "cell_type": "code",
   "execution_count": null,
   "id": "c860ba46-1e5a-4be4-89ce-99c60ae50515",
   "metadata": {},
   "outputs": [],
   "source": [
    "df_sim1.groupby('l1_cache_size').size()"
   ]
  },
  {
   "cell_type": "code",
   "execution_count": null,
   "id": "bca25276-bf22-418d-b392-4808c7d0e458",
   "metadata": {},
   "outputs": [],
   "source": [
    "df_sim1.to_excel('l1_size.xlsx')"
   ]
  },
  {
   "cell_type": "code",
   "execution_count": null,
   "id": "feba5f55-a3fd-49be-83e6-066e2872f9c1",
   "metadata": {},
   "outputs": [],
   "source": [
    "rename_app(df_sim1)"
   ]
  },
  {
   "cell_type": "code",
   "execution_count": null,
   "id": "2b0cfc3c-b5c7-41ca-9abb-a3076024b1eb",
   "metadata": {},
   "outputs": [],
   "source": [
    "df_sim1.plot.hist()"
   ]
  },
  {
   "cell_type": "code",
   "execution_count": null,
   "id": "a7106688-f3db-4fd5-bf52-ec24b6f78d87",
   "metadata": {},
   "outputs": [],
   "source": []
  }
 ],
 "metadata": {
  "kernelspec": {
   "display_name": "Python 3 (ipykernel)",
   "language": "python",
   "name": "python3"
  },
  "language_info": {
   "codemirror_mode": {
    "name": "ipython",
    "version": 3
   },
   "file_extension": ".py",
   "mimetype": "text/x-python",
   "name": "python",
   "nbconvert_exporter": "python",
   "pygments_lexer": "ipython3",
   "version": "3.8.16"
  }
 },
 "nbformat": 4,
 "nbformat_minor": 5
}
